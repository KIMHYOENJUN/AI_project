{
  "nbformat": 4,
  "nbformat_minor": 0,
  "metadata": {
    "colab": {
      "name": "Untitled0.ipynb",
      "provenance": [],
      "collapsed_sections": [],
      "include_colab_link": true
    },
    "kernelspec": {
      "name": "python3",
      "display_name": "Python 3"
    },
    "language_info": {
      "name": "python"
    }
  },
  "cells": [
    {
      "cell_type": "markdown",
      "metadata": {
        "id": "view-in-github",
        "colab_type": "text"
      },
      "source": [
        "<a href=\"https://colab.research.google.com/github/KIMHYOENJUN/AI_project/blob/main/%5Bfin%5Dtxt%20parsing.ipynb\" target=\"_parent\"><img src=\"https://colab.research.google.com/assets/colab-badge.svg\" alt=\"Open In Colab\"/></a>"
      ]
    },
    {
      "cell_type": "code",
      "source": [
        "from google.colab import drive\n",
        "drive.mount('/content/drive')"
      ],
      "metadata": {
        "colab": {
          "base_uri": "https://localhost:8080/"
        },
        "id": "jFy2WWDyjSz2",
        "outputId": "e404dd96-8cc2-41f6-af32-043f08f05c69"
      },
      "execution_count": 18,
      "outputs": [
        {
          "output_type": "stream",
          "name": "stdout",
          "text": [
            "Drive already mounted at /content/drive; to attempt to forcibly remount, call drive.mount(\"/content/drive\", force_remount=True).\n"
          ]
        }
      ]
    },
    {
      "cell_type": "code",
      "source": [
        "cd /content/drive/MyDrive"
      ],
      "metadata": {
        "colab": {
          "base_uri": "https://localhost:8080/"
        },
        "id": "07PkH_COjSxW",
        "outputId": "626a97c0-9d9f-4553-87da-7495c74cd834"
      },
      "execution_count": 19,
      "outputs": [
        {
          "output_type": "stream",
          "name": "stdout",
          "text": [
            "/content/drive/MyDrive\n"
          ]
        }
      ]
    },
    {
      "cell_type": "code",
      "source": [
        "pwd"
      ],
      "metadata": {
        "colab": {
          "base_uri": "https://localhost:8080/",
          "height": 35
        },
        "id": "N3t0rJ-Rk3e-",
        "outputId": "35b02b3c-3eb1-4392-f465-0daceeed9be7"
      },
      "execution_count": 20,
      "outputs": [
        {
          "output_type": "execute_result",
          "data": {
            "text/plain": [
              "'/content/drive/MyDrive'"
            ],
            "application/vnd.google.colaboratory.intrinsic+json": {
              "type": "string"
            }
          },
          "metadata": {},
          "execution_count": 20
        }
      ]
    },
    {
      "cell_type": "code",
      "source": [
        "import os\n",
        "import sys\n",
        "import cv2\n",
        "import numpy as np\n",
        "from glob import glob\n",
        "import random\n",
        "import xml.etree.ElementTree as ET"
      ],
      "metadata": {
        "id": "rGN0GUbijSsO"
      },
      "execution_count": 21,
      "outputs": []
    },
    {
      "cell_type": "code",
      "source": [
        "class preprocessing(object):\n",
        "    def __init__(self, resize_size):\n",
        "        self.resize_size = resize_size\n",
        "    \n",
        "    def resize(self, img):\n",
        "        resize_img = cv2.resize(img, (self.resize_size, self.resize_size))\n",
        "        return resize_img\n",
        "    \n",
        "    def normalize_img(self, img):\n",
        "        norm_img = img / 255.0\n",
        "        return norm_img\n",
        "    \n",
        "    def label_parsing(self, label_path):\n",
        "        info = ET.parse(label_path)\n",
        "        root = info.getroot()\n",
        "        member_object = root.findall('object')\n",
        "        label_data = []\n",
        "        labels_dict = dict(obj_class=[], xmin=[], xmax=[], ymin=[], ymax=[])\n",
        "        label_data.append(label_path)\n",
        "        for obj in member_object:\n",
        "            if obj.find('name').text == 'apple':\n",
        "                obj_class = 0\n",
        "            elif obj.find('name').text == 'banana':\n",
        "                obj_class = 1\n",
        "            elif obj.find('name').text == 'orange':\n",
        "                obj_class = 2\n",
        "            \n",
        "            labels_info = obj.find('bndbox')\n",
        "            xmin = int(labels_info.find('xmin').text)\n",
        "            xmax = int(labels_info.find('xmax').text)\n",
        "            ymin = int(labels_info.find('ymin').text)\n",
        "            ymax = int(labels_info.find('ymax').text)\n",
        "            labels_dict['xmin'].append(xmin)\n",
        "            labels_dict['xmax'].append(xmax)\n",
        "            labels_dict['ymin'].append(ymin)\n",
        "            labels_dict['ymax'].append(ymax)\n",
        "            labels_dict['obj_class'].append(obj_class)\n",
        "            label_data.append(labels_dict)\n",
        "        return label_data\n",
        "\n",
        "\n",
        "\n",
        "def main():\n",
        "    datapath = '/content/drive/MyDrive/fruit/test_zip/test'\n",
        "    image_files = glob(os.path.join(datapath, '*.jpg'))\n",
        "    label_files = glob(os.path.join(datapath, '*.xml'))\n",
        "    prepro_img = preprocessing(resize_size=244)\n",
        "    \n",
        "    data = list(zip(image_files, label_files))\n",
        "    random.seed(4)\n",
        "    random.shuffle(data)\n",
        "    \n",
        "    # check the input images\n",
        "    for file in data:\n",
        "        #print(file)\n",
        "        image = cv2.imread(file[0])\n",
        "        label = prepro_img.label_parsing(file[1])\n",
        "        \n",
        "        #resize_img = prepro_img.resize(image)\n",
        "        #norm_img = prepro_img.normalize_img(resize_img)\n",
        " \n",
        "        if (file[0].split('\\\\'))[-1] == 'mixed_8.jpg':\n",
        "            rect_img = image\n",
        "            #print(len(label[1]['obj_class']))\n",
        "            for i in range(len(label[1]['obj_class'])):\n",
        "                bb_color = (0, 0, 0)\n",
        "                if label[1]['obj_class'][i] == 0:\n",
        "                    bb_color = (255, 0, 0) # blue: apple\n",
        "                elif label[1]['obj_class'][i] == 1:\n",
        "                    bb_color = (0, 255, 0) # green: banana\n",
        "                elif label[1]['obj_class'][i] == 2:\n",
        "                    bb_color = (0, 0, 255) # red: orange\n",
        "                \n",
        "                rect_img = cv2.rectangle(rect_img, (label[1]['xmin'][i], label[1]['ymin'][i]), (label[1]['xmax'][i], label[1]['ymax'][i]), bb_color, 1)\n",
        "            cv2.imwrite('bb_result.jpg', rect_img)\n",
        "     \n",
        "    with open('text.txt', 'w') as f:\n",
        "        for file in data:\n",
        "            label = prepro_img.label_parsing(file[1])\n",
        "            f.write(label[0]+' ')\n",
        "            for i in range(len(label[1]['obj_class'])):\n",
        "                f.write('{}, {}, {}, {}, {}'.format(label[1]['obj_class'][i], label[1]['xmin'][i], label[1]['xmax'][i], label[1]['ymin'][i], label[1]['ymax'][i]))\n",
        "            f.write(label[:-1])\n",
        "            f.write('\\n')\n",
        "        \n",
        "    #train_step\n",
        "\n",
        "    #valid_step\n",
        "\n",
        "\n",
        "if __name__==\"__main__\":\n",
        "    main()\n",
        "\n"
      ],
      "metadata": {
        "id": "QwBdJfyyjSjc"
      },
      "execution_count": 8,
      "outputs": []
    },
    {
      "cell_type": "code",
      "source": [
        "class preprocessing(object):\n",
        "    def __init__(self, resize_size):\n",
        "        self.resize_size = resize_size\n",
        "    \n",
        "    def resize(self, img):\n",
        "        resize_img = cv2.resize(img, (self.resize_size, self.resize_size))\n",
        "        return resize_img\n",
        "    \n",
        "    def normalize_img(self, img):\n",
        "        norm_img = img / 255.0\n",
        "        return norm_img\n",
        "    \n",
        "    def label_parsing(self, label_path):\n",
        "        info = ET.parse(label_path)\n",
        "        root = info.getroot()\n",
        "        member_object = root.findall('object')\n",
        "        label_data = []\n",
        "        labels_dict = dict(obj_class=[], xmin=[], xmax=[], ymin=[], ymax=[])\n",
        "        label_data.append(label_path)\n",
        "        for obj in member_object:\n",
        "            if obj.find('name').text == 'apple':\n",
        "                obj_class = 0\n",
        "            elif obj.find('name').text == 'banana':\n",
        "                obj_class = 1\n",
        "            elif obj.find('name').text == 'orange':\n",
        "                obj_class = 2\n",
        "            \n",
        "            labels_info = obj.find('bndbox')\n",
        "            xmin = int(labels_info.find('xmin').text)\n",
        "            xmax = int(labels_info.find('xmax').text)\n",
        "            ymin = int(labels_info.find('ymin').text)\n",
        "            ymax = int(labels_info.find('ymax').text)\n",
        "            labels_dict['xmin'].append(xmin)\n",
        "            labels_dict['xmax'].append(xmax)\n",
        "            labels_dict['ymin'].append(ymin)\n",
        "            labels_dict['ymax'].append(ymax)\n",
        "            labels_dict['obj_class'].append(obj_class)\n",
        "            label_data.append(labels_dict)\n",
        "        return label_data\n",
        "\n"
      ],
      "metadata": {
        "id": "2vu-6lLShUEP"
      },
      "execution_count": 22,
      "outputs": []
    },
    {
      "cell_type": "code",
      "execution_count": 23,
      "metadata": {
        "id": "VORAr3j0jNan"
      },
      "outputs": [],
      "source": [
        "def main():\n",
        "    datapath = '/content/drive/MyDrive/fruit/test_zip/test'\n",
        "    image_files = glob(os.path.join(datapath, '*.jpg'))\n",
        "    label_files = glob(os.path.join(datapath, '*.xml'))\n",
        "    prepro_img = preprocessing(resize_size=244)\n",
        "    \n",
        "    data = list(zip(image_files, label_files))\n",
        "    random.seed(4)\n",
        "    random.shuffle(data)\n",
        "    \n",
        "    # check the input images\n",
        "    for file in data:\n",
        "        #print(file)\n",
        "        image = cv2.imread(file[0])\n",
        "        label = prepro_img.label_parsing(file[1])\n",
        "        \n",
        "        #resize_img = prepro_img.resize(image)\n",
        "        #norm_img = prepro_img.normalize_img(resize_img)\n",
        " \n",
        "        if (file[0].split('\\\\'))[-1] == 'mixed_8.jpg':\n",
        "            rect_img = image\n",
        "            #print(len(label[1]['obj_class']))\n",
        "            for i in range(len(label[1]['obj_class'])):\n",
        "                bb_color = (0, 0, 0)\n",
        "                if label[1]['obj_class'][i] == 0:\n",
        "                    bb_color = (255, 0, 0) # blue: apple\n",
        "                elif label[1]['obj_class'][i] == 1:\n",
        "                    bb_color = (0, 255, 0) # green: banana\n",
        "                elif label[1]['obj_class'][i] == 2:\n",
        "                    bb_color = (0, 0, 255) # red: orange\n",
        "                \n",
        "                rect_img = cv2.rectangle(rect_img, (label[1]['xmin'][i], label[1]['ymin'][i]), (label[1]['xmax'][i], label[1]['ymax'][i]), bb_color, 1)\n",
        "            cv2.imwrite('bb_result.jpg', rect_img)\n",
        "     \n",
        "    with open('test.txt', 'w') as f:\n",
        "        for file in data:\n",
        "            label = prepro_img.label_parsing(file[1])\n",
        "            f.write(label[0]+' ')\n",
        "            for i in range(len(label[1]['obj_class'])):\n",
        "                f.write('{}, {}, {}, {}, {}'.format(label[1]['obj_class'][i], label[1]['xmin'][i], label[1]['xmax'][i], label[1]['ymin'][i], label[1]['ymax'][i]))\n",
        "           # f.write(label[:-1])\n",
        "            f.write('\\n')\n",
        "        \n",
        "    #train_step\n",
        "\n",
        "    #valid_step\n",
        "\n",
        "\n"
      ]
    },
    {
      "cell_type": "code",
      "source": [
        "main()"
      ],
      "metadata": {
        "id": "Tk_pI2jOkBY6"
      },
      "execution_count": 24,
      "outputs": []
    },
    {
      "cell_type": "code",
      "source": [
        "\n",
        "if __name__==\"__main__\":\n",
        "    main()"
      ],
      "metadata": {
        "id": "qGWbk37IkUfB"
      },
      "execution_count": null,
      "outputs": []
    }
  ]
}