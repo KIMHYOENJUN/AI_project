{
  "cells": [
    {
      "cell_type": "markdown",
      "metadata": {
        "id": "view-in-github",
        "colab_type": "text"
      },
      "source": [
        "<a href=\"https://colab.research.google.com/github/KIMHYOENJUN/AI_project/blob/main/LSTM%EC%9D%84_%ED%99%9C%EC%9A%A9%ED%95%9C_%EC%82%BC%EC%84%B1%EC%A0%84%EC%9E%90_%EC%A3%BC%EA%B0%80%EC%98%88%EC%B8%A1.ipynb\" target=\"_parent\"><img src=\"https://colab.research.google.com/assets/colab-badge.svg\" alt=\"Open In Colab\"/></a>"
      ]
    },
    {
      "cell_type": "markdown",
      "metadata": {
        "id": "Pyb1-sOD8bUn"
      },
      "source": [
        "# LSTM을 활용한 주가 예측 모델"
      ]
    },
    {
      "cell_type": "markdown",
      "metadata": {
        "id": "NFXSQum-8bUq"
      },
      "source": [
        "이번 튜토리얼 에서는 다음과 같은 **프로세스 파이프라인**으로 주가 예측을 진행합니다.\n",
        "\n",
        "- FinanceDataReader를 활용하여 주가 데이터 받아오기\n",
        "- TensorFlow Dataset 클래스를 활용하여 주가 데이터 구축\n",
        "- LSTM 을 활용한 주가 예측 모델 구축"
      ]
    },
    {
      "cell_type": "markdown",
      "metadata": {
        "id": "C-yRpDHZ8bUq"
      },
      "source": [
        "## 필요한 모듈 import"
      ]
    },
    {
      "cell_type": "code",
      "execution_count": 1,
      "metadata": {
        "id": "xXuU_RJC8bUr"
      },
      "outputs": [],
      "source": [
        "import pandas as pd\n",
        "import numpy as np\n",
        "import matplotlib.pyplot as plt\n",
        "import seaborn as sns\n",
        "import warnings\n",
        "import os\n",
        "\n",
        "%matplotlib inline\n",
        "warnings.filterwarnings('ignore')\n",
        "plt.rcParams['figure.figsize'] = (15, 20)\n",
        "\n",
        "plt.rcParams['font.family'] = 'NanumGothic'"
      ]
    },
    {
      "cell_type": "markdown",
      "metadata": {
        "id": "K2avgmw-8bUr"
      },
      "source": [
        "## 데이터 (FinanceDataReader)"
      ]
    },
    {
      "cell_type": "markdown",
      "metadata": {
        "id": "Z_Q2Maui8bUs"
      },
      "source": [
        "**FinanceDataReader**는 주가 데이터를 편리하게 가져올 수 있는 파이썬 패키지입니다.\n",
        "\n",
        "- [GitHub Repo](https://github.com/FinanceData/FinanceDataReader)"
      ]
    },
    {
      "cell_type": "markdown",
      "metadata": {
        "id": "V7X2JMIx8bUs"
      },
      "source": [
        "**FinanceDataReader**설치"
      ]
    },
    {
      "cell_type": "code",
      "execution_count": 2,
      "metadata": {
        "id": "4AaUNS5T8bUs",
        "colab": {
          "base_uri": "https://localhost:8080/"
        },
        "outputId": "affd3693-0977-4fda-9c33-df582c562a2c"
      },
      "outputs": [
        {
          "output_type": "stream",
          "name": "stdout",
          "text": [
            "Looking in indexes: https://pypi.org/simple, https://us-python.pkg.dev/colab-wheels/public/simple/\n",
            "Collecting finance-datareader\n",
            "  Downloading finance_datareader-0.9.34-py3-none-any.whl (17 kB)\n",
            "Requirement already satisfied: requests>=2.3.0 in /usr/local/lib/python3.7/dist-packages (from finance-datareader) (2.23.0)\n",
            "Collecting requests-file\n",
            "  Downloading requests_file-1.5.1-py2.py3-none-any.whl (3.7 kB)\n",
            "Requirement already satisfied: pandas>=0.19.2 in /usr/local/lib/python3.7/dist-packages (from finance-datareader) (1.3.5)\n",
            "Requirement already satisfied: lxml in /usr/local/lib/python3.7/dist-packages (from finance-datareader) (4.2.6)\n",
            "Requirement already satisfied: tqdm in /usr/local/lib/python3.7/dist-packages (from finance-datareader) (4.64.0)\n",
            "Requirement already satisfied: numpy>=1.17.3 in /usr/local/lib/python3.7/dist-packages (from pandas>=0.19.2->finance-datareader) (1.21.6)\n",
            "Requirement already satisfied: python-dateutil>=2.7.3 in /usr/local/lib/python3.7/dist-packages (from pandas>=0.19.2->finance-datareader) (2.8.2)\n",
            "Requirement already satisfied: pytz>=2017.3 in /usr/local/lib/python3.7/dist-packages (from pandas>=0.19.2->finance-datareader) (2022.1)\n",
            "Requirement already satisfied: six>=1.5 in /usr/local/lib/python3.7/dist-packages (from python-dateutil>=2.7.3->pandas>=0.19.2->finance-datareader) (1.15.0)\n",
            "Requirement already satisfied: certifi>=2017.4.17 in /usr/local/lib/python3.7/dist-packages (from requests>=2.3.0->finance-datareader) (2022.6.15)\n",
            "Requirement already satisfied: urllib3!=1.25.0,!=1.25.1,<1.26,>=1.21.1 in /usr/local/lib/python3.7/dist-packages (from requests>=2.3.0->finance-datareader) (1.24.3)\n",
            "Requirement already satisfied: chardet<4,>=3.0.2 in /usr/local/lib/python3.7/dist-packages (from requests>=2.3.0->finance-datareader) (3.0.4)\n",
            "Requirement already satisfied: idna<3,>=2.5 in /usr/local/lib/python3.7/dist-packages (from requests>=2.3.0->finance-datareader) (2.10)\n",
            "Installing collected packages: requests-file, finance-datareader\n",
            "Successfully installed finance-datareader-0.9.34 requests-file-1.5.1\n"
          ]
        }
      ],
      "source": [
        "!pip install finance-datareader"
      ]
    },
    {
      "cell_type": "code",
      "execution_count": 3,
      "metadata": {
        "id": "hYWwNFXV8bUt"
      },
      "outputs": [],
      "source": [
        "import FinanceDataReader as fdr"
      ]
    },
    {
      "cell_type": "code",
      "execution_count": 4,
      "metadata": {
        "id": "iIIILf728bUt"
      },
      "outputs": [],
      "source": [
        "# 삼성전자(005930) 전체 (1996-11-05 ~ 현재)\n",
        "samsung = fdr.DataReader('005930')"
      ]
    },
    {
      "cell_type": "markdown",
      "metadata": {
        "id": "RM85qQog8bUu"
      },
      "source": [
        "매우 편리하게 삼성전자 주가 데이터를 `DataFrame`형식으로 받아옵니다.\n",
        "\n",
        "기본 **오름차순 정렬**이 된 데이터임을 알 수 있습니다.\n",
        "\n",
        "### 컬럼 설명\n",
        "\n",
        "- `Open`:   시가\n",
        "- `High`:   고가\n",
        "- `Low`:    저가\n",
        "- `Close`:  종가\n",
        "- `Volume`: 거래량\n",
        "- `Change`: 대비"
      ]
    },
    {
      "cell_type": "code",
      "execution_count": 6,
      "metadata": {
        "id": "vDQG1PIR8bUu",
        "outputId": "0415a805-63a6-46ea-a3eb-50914e8dcb68",
        "colab": {
          "base_uri": "https://localhost:8080/",
          "height": 237
        }
      },
      "outputs": [
        {
          "output_type": "execute_result",
          "data": {
            "text/plain": [
              "             Open   High    Low  Close    Volume    Change\n",
              "Date                                                      \n",
              "2022-07-01  56900  57500  55900  56200  24982097 -0.014035\n",
              "2022-07-04  56100  57400  55700  57100  17807126  0.016014\n",
              "2022-07-05  57600  58200  57200  57200  14216539  0.001751\n",
              "2022-07-06  57300  57300  56400  56400  16820461 -0.013986\n",
              "2022-07-07  56400  58700  56300  58200  21065788  0.031915"
            ],
            "text/html": [
              "\n",
              "  <div id=\"df-f368fa06-ca2f-4590-9db2-93462d68fb04\">\n",
              "    <div class=\"colab-df-container\">\n",
              "      <div>\n",
              "<style scoped>\n",
              "    .dataframe tbody tr th:only-of-type {\n",
              "        vertical-align: middle;\n",
              "    }\n",
              "\n",
              "    .dataframe tbody tr th {\n",
              "        vertical-align: top;\n",
              "    }\n",
              "\n",
              "    .dataframe thead th {\n",
              "        text-align: right;\n",
              "    }\n",
              "</style>\n",
              "<table border=\"1\" class=\"dataframe\">\n",
              "  <thead>\n",
              "    <tr style=\"text-align: right;\">\n",
              "      <th></th>\n",
              "      <th>Open</th>\n",
              "      <th>High</th>\n",
              "      <th>Low</th>\n",
              "      <th>Close</th>\n",
              "      <th>Volume</th>\n",
              "      <th>Change</th>\n",
              "    </tr>\n",
              "    <tr>\n",
              "      <th>Date</th>\n",
              "      <th></th>\n",
              "      <th></th>\n",
              "      <th></th>\n",
              "      <th></th>\n",
              "      <th></th>\n",
              "      <th></th>\n",
              "    </tr>\n",
              "  </thead>\n",
              "  <tbody>\n",
              "    <tr>\n",
              "      <th>2022-07-01</th>\n",
              "      <td>56900</td>\n",
              "      <td>57500</td>\n",
              "      <td>55900</td>\n",
              "      <td>56200</td>\n",
              "      <td>24982097</td>\n",
              "      <td>-0.014035</td>\n",
              "    </tr>\n",
              "    <tr>\n",
              "      <th>2022-07-04</th>\n",
              "      <td>56100</td>\n",
              "      <td>57400</td>\n",
              "      <td>55700</td>\n",
              "      <td>57100</td>\n",
              "      <td>17807126</td>\n",
              "      <td>0.016014</td>\n",
              "    </tr>\n",
              "    <tr>\n",
              "      <th>2022-07-05</th>\n",
              "      <td>57600</td>\n",
              "      <td>58200</td>\n",
              "      <td>57200</td>\n",
              "      <td>57200</td>\n",
              "      <td>14216539</td>\n",
              "      <td>0.001751</td>\n",
              "    </tr>\n",
              "    <tr>\n",
              "      <th>2022-07-06</th>\n",
              "      <td>57300</td>\n",
              "      <td>57300</td>\n",
              "      <td>56400</td>\n",
              "      <td>56400</td>\n",
              "      <td>16820461</td>\n",
              "      <td>-0.013986</td>\n",
              "    </tr>\n",
              "    <tr>\n",
              "      <th>2022-07-07</th>\n",
              "      <td>56400</td>\n",
              "      <td>58700</td>\n",
              "      <td>56300</td>\n",
              "      <td>58200</td>\n",
              "      <td>21065788</td>\n",
              "      <td>0.031915</td>\n",
              "    </tr>\n",
              "  </tbody>\n",
              "</table>\n",
              "</div>\n",
              "      <button class=\"colab-df-convert\" onclick=\"convertToInteractive('df-f368fa06-ca2f-4590-9db2-93462d68fb04')\"\n",
              "              title=\"Convert this dataframe to an interactive table.\"\n",
              "              style=\"display:none;\">\n",
              "        \n",
              "  <svg xmlns=\"http://www.w3.org/2000/svg\" height=\"24px\"viewBox=\"0 0 24 24\"\n",
              "       width=\"24px\">\n",
              "    <path d=\"M0 0h24v24H0V0z\" fill=\"none\"/>\n",
              "    <path d=\"M18.56 5.44l.94 2.06.94-2.06 2.06-.94-2.06-.94-.94-2.06-.94 2.06-2.06.94zm-11 1L8.5 8.5l.94-2.06 2.06-.94-2.06-.94L8.5 2.5l-.94 2.06-2.06.94zm10 10l.94 2.06.94-2.06 2.06-.94-2.06-.94-.94-2.06-.94 2.06-2.06.94z\"/><path d=\"M17.41 7.96l-1.37-1.37c-.4-.4-.92-.59-1.43-.59-.52 0-1.04.2-1.43.59L10.3 9.45l-7.72 7.72c-.78.78-.78 2.05 0 2.83L4 21.41c.39.39.9.59 1.41.59.51 0 1.02-.2 1.41-.59l7.78-7.78 2.81-2.81c.8-.78.8-2.07 0-2.86zM5.41 20L4 18.59l7.72-7.72 1.47 1.35L5.41 20z\"/>\n",
              "  </svg>\n",
              "      </button>\n",
              "      \n",
              "  <style>\n",
              "    .colab-df-container {\n",
              "      display:flex;\n",
              "      flex-wrap:wrap;\n",
              "      gap: 12px;\n",
              "    }\n",
              "\n",
              "    .colab-df-convert {\n",
              "      background-color: #E8F0FE;\n",
              "      border: none;\n",
              "      border-radius: 50%;\n",
              "      cursor: pointer;\n",
              "      display: none;\n",
              "      fill: #1967D2;\n",
              "      height: 32px;\n",
              "      padding: 0 0 0 0;\n",
              "      width: 32px;\n",
              "    }\n",
              "\n",
              "    .colab-df-convert:hover {\n",
              "      background-color: #E2EBFA;\n",
              "      box-shadow: 0px 1px 2px rgba(60, 64, 67, 0.3), 0px 1px 3px 1px rgba(60, 64, 67, 0.15);\n",
              "      fill: #174EA6;\n",
              "    }\n",
              "\n",
              "    [theme=dark] .colab-df-convert {\n",
              "      background-color: #3B4455;\n",
              "      fill: #D2E3FC;\n",
              "    }\n",
              "\n",
              "    [theme=dark] .colab-df-convert:hover {\n",
              "      background-color: #434B5C;\n",
              "      box-shadow: 0px 1px 3px 1px rgba(0, 0, 0, 0.15);\n",
              "      filter: drop-shadow(0px 1px 2px rgba(0, 0, 0, 0.3));\n",
              "      fill: #FFFFFF;\n",
              "    }\n",
              "  </style>\n",
              "\n",
              "      <script>\n",
              "        const buttonEl =\n",
              "          document.querySelector('#df-f368fa06-ca2f-4590-9db2-93462d68fb04 button.colab-df-convert');\n",
              "        buttonEl.style.display =\n",
              "          google.colab.kernel.accessAllowed ? 'block' : 'none';\n",
              "\n",
              "        async function convertToInteractive(key) {\n",
              "          const element = document.querySelector('#df-f368fa06-ca2f-4590-9db2-93462d68fb04');\n",
              "          const dataTable =\n",
              "            await google.colab.kernel.invokeFunction('convertToInteractive',\n",
              "                                                     [key], {});\n",
              "          if (!dataTable) return;\n",
              "\n",
              "          const docLinkHtml = 'Like what you see? Visit the ' +\n",
              "            '<a target=\"_blank\" href=https://colab.research.google.com/notebooks/data_table.ipynb>data table notebook</a>'\n",
              "            + ' to learn more about interactive tables.';\n",
              "          element.innerHTML = '';\n",
              "          dataTable['output_type'] = 'display_data';\n",
              "          await google.colab.output.renderOutput(dataTable, element);\n",
              "          const docLink = document.createElement('div');\n",
              "          docLink.innerHTML = docLinkHtml;\n",
              "          element.appendChild(docLink);\n",
              "        }\n",
              "      </script>\n",
              "    </div>\n",
              "  </div>\n",
              "  "
            ]
          },
          "metadata": {},
          "execution_count": 6
        }
      ],
      "source": [
        "samsung.tail()"
      ]
    },
    {
      "cell_type": "markdown",
      "metadata": {
        "id": "BeTtNpf68bUv"
      },
      "source": [
        "**미국 주식 데이터**도 가져올 수 있습니다."
      ]
    },
    {
      "cell_type": "code",
      "execution_count": 7,
      "metadata": {
        "id": "bqFdT7nm8bUv"
      },
      "outputs": [],
      "source": [
        "# Apple(AAPL), 애플\n",
        "apple = fdr.DataReader('AAPL')"
      ]
    },
    {
      "cell_type": "code",
      "execution_count": 8,
      "metadata": {
        "id": "sHmFxrzb8bUv",
        "outputId": "d24f1915-7e0a-45d3-ee94-26ab90e1ee1e",
        "colab": {
          "base_uri": "https://localhost:8080/",
          "height": 237
        }
      },
      "outputs": [
        {
          "output_type": "execute_result",
          "data": {
            "text/plain": [
              "             Close    Open    High     Low      Volume  Change\n",
              "Date                                                          \n",
              "2022-06-29  139.23  137.46  140.67  136.67  65980000.0  0.0130\n",
              "2022-06-30  136.72  137.25  138.37  133.77  98630000.0 -0.0180\n",
              "2022-07-01  138.93  136.04  139.04  135.66  71050000.0  0.0162\n",
              "2022-07-05  141.56  137.77  141.61  136.93  70950000.0  0.0189\n",
              "2022-07-06  142.92  141.35  144.12  141.08  73550000.0  0.0096"
            ],
            "text/html": [
              "\n",
              "  <div id=\"df-eb8c8bae-1a00-4ad3-acff-8c2b0dbb7d50\">\n",
              "    <div class=\"colab-df-container\">\n",
              "      <div>\n",
              "<style scoped>\n",
              "    .dataframe tbody tr th:only-of-type {\n",
              "        vertical-align: middle;\n",
              "    }\n",
              "\n",
              "    .dataframe tbody tr th {\n",
              "        vertical-align: top;\n",
              "    }\n",
              "\n",
              "    .dataframe thead th {\n",
              "        text-align: right;\n",
              "    }\n",
              "</style>\n",
              "<table border=\"1\" class=\"dataframe\">\n",
              "  <thead>\n",
              "    <tr style=\"text-align: right;\">\n",
              "      <th></th>\n",
              "      <th>Close</th>\n",
              "      <th>Open</th>\n",
              "      <th>High</th>\n",
              "      <th>Low</th>\n",
              "      <th>Volume</th>\n",
              "      <th>Change</th>\n",
              "    </tr>\n",
              "    <tr>\n",
              "      <th>Date</th>\n",
              "      <th></th>\n",
              "      <th></th>\n",
              "      <th></th>\n",
              "      <th></th>\n",
              "      <th></th>\n",
              "      <th></th>\n",
              "    </tr>\n",
              "  </thead>\n",
              "  <tbody>\n",
              "    <tr>\n",
              "      <th>2022-06-29</th>\n",
              "      <td>139.23</td>\n",
              "      <td>137.46</td>\n",
              "      <td>140.67</td>\n",
              "      <td>136.67</td>\n",
              "      <td>65980000.0</td>\n",
              "      <td>0.0130</td>\n",
              "    </tr>\n",
              "    <tr>\n",
              "      <th>2022-06-30</th>\n",
              "      <td>136.72</td>\n",
              "      <td>137.25</td>\n",
              "      <td>138.37</td>\n",
              "      <td>133.77</td>\n",
              "      <td>98630000.0</td>\n",
              "      <td>-0.0180</td>\n",
              "    </tr>\n",
              "    <tr>\n",
              "      <th>2022-07-01</th>\n",
              "      <td>138.93</td>\n",
              "      <td>136.04</td>\n",
              "      <td>139.04</td>\n",
              "      <td>135.66</td>\n",
              "      <td>71050000.0</td>\n",
              "      <td>0.0162</td>\n",
              "    </tr>\n",
              "    <tr>\n",
              "      <th>2022-07-05</th>\n",
              "      <td>141.56</td>\n",
              "      <td>137.77</td>\n",
              "      <td>141.61</td>\n",
              "      <td>136.93</td>\n",
              "      <td>70950000.0</td>\n",
              "      <td>0.0189</td>\n",
              "    </tr>\n",
              "    <tr>\n",
              "      <th>2022-07-06</th>\n",
              "      <td>142.92</td>\n",
              "      <td>141.35</td>\n",
              "      <td>144.12</td>\n",
              "      <td>141.08</td>\n",
              "      <td>73550000.0</td>\n",
              "      <td>0.0096</td>\n",
              "    </tr>\n",
              "  </tbody>\n",
              "</table>\n",
              "</div>\n",
              "      <button class=\"colab-df-convert\" onclick=\"convertToInteractive('df-eb8c8bae-1a00-4ad3-acff-8c2b0dbb7d50')\"\n",
              "              title=\"Convert this dataframe to an interactive table.\"\n",
              "              style=\"display:none;\">\n",
              "        \n",
              "  <svg xmlns=\"http://www.w3.org/2000/svg\" height=\"24px\"viewBox=\"0 0 24 24\"\n",
              "       width=\"24px\">\n",
              "    <path d=\"M0 0h24v24H0V0z\" fill=\"none\"/>\n",
              "    <path d=\"M18.56 5.44l.94 2.06.94-2.06 2.06-.94-2.06-.94-.94-2.06-.94 2.06-2.06.94zm-11 1L8.5 8.5l.94-2.06 2.06-.94-2.06-.94L8.5 2.5l-.94 2.06-2.06.94zm10 10l.94 2.06.94-2.06 2.06-.94-2.06-.94-.94-2.06-.94 2.06-2.06.94z\"/><path d=\"M17.41 7.96l-1.37-1.37c-.4-.4-.92-.59-1.43-.59-.52 0-1.04.2-1.43.59L10.3 9.45l-7.72 7.72c-.78.78-.78 2.05 0 2.83L4 21.41c.39.39.9.59 1.41.59.51 0 1.02-.2 1.41-.59l7.78-7.78 2.81-2.81c.8-.78.8-2.07 0-2.86zM5.41 20L4 18.59l7.72-7.72 1.47 1.35L5.41 20z\"/>\n",
              "  </svg>\n",
              "      </button>\n",
              "      \n",
              "  <style>\n",
              "    .colab-df-container {\n",
              "      display:flex;\n",
              "      flex-wrap:wrap;\n",
              "      gap: 12px;\n",
              "    }\n",
              "\n",
              "    .colab-df-convert {\n",
              "      background-color: #E8F0FE;\n",
              "      border: none;\n",
              "      border-radius: 50%;\n",
              "      cursor: pointer;\n",
              "      display: none;\n",
              "      fill: #1967D2;\n",
              "      height: 32px;\n",
              "      padding: 0 0 0 0;\n",
              "      width: 32px;\n",
              "    }\n",
              "\n",
              "    .colab-df-convert:hover {\n",
              "      background-color: #E2EBFA;\n",
              "      box-shadow: 0px 1px 2px rgba(60, 64, 67, 0.3), 0px 1px 3px 1px rgba(60, 64, 67, 0.15);\n",
              "      fill: #174EA6;\n",
              "    }\n",
              "\n",
              "    [theme=dark] .colab-df-convert {\n",
              "      background-color: #3B4455;\n",
              "      fill: #D2E3FC;\n",
              "    }\n",
              "\n",
              "    [theme=dark] .colab-df-convert:hover {\n",
              "      background-color: #434B5C;\n",
              "      box-shadow: 0px 1px 3px 1px rgba(0, 0, 0, 0.15);\n",
              "      filter: drop-shadow(0px 1px 2px rgba(0, 0, 0, 0.3));\n",
              "      fill: #FFFFFF;\n",
              "    }\n",
              "  </style>\n",
              "\n",
              "      <script>\n",
              "        const buttonEl =\n",
              "          document.querySelector('#df-eb8c8bae-1a00-4ad3-acff-8c2b0dbb7d50 button.colab-df-convert');\n",
              "        buttonEl.style.display =\n",
              "          google.colab.kernel.accessAllowed ? 'block' : 'none';\n",
              "\n",
              "        async function convertToInteractive(key) {\n",
              "          const element = document.querySelector('#df-eb8c8bae-1a00-4ad3-acff-8c2b0dbb7d50');\n",
              "          const dataTable =\n",
              "            await google.colab.kernel.invokeFunction('convertToInteractive',\n",
              "                                                     [key], {});\n",
              "          if (!dataTable) return;\n",
              "\n",
              "          const docLinkHtml = 'Like what you see? Visit the ' +\n",
              "            '<a target=\"_blank\" href=https://colab.research.google.com/notebooks/data_table.ipynb>data table notebook</a>'\n",
              "            + ' to learn more about interactive tables.';\n",
              "          element.innerHTML = '';\n",
              "          dataTable['output_type'] = 'display_data';\n",
              "          await google.colab.output.renderOutput(dataTable, element);\n",
              "          const docLink = document.createElement('div');\n",
              "          docLink.innerHTML = docLinkHtml;\n",
              "          element.appendChild(docLink);\n",
              "        }\n",
              "      </script>\n",
              "    </div>\n",
              "  </div>\n",
              "  "
            ]
          },
          "metadata": {},
          "execution_count": 8
        }
      ],
      "source": [
        "apple.tail()"
      ]
    },
    {
      "cell_type": "markdown",
      "metadata": {
        "id": "VEhwEr-t8bUv"
      },
      "source": [
        "다음과 같이 `2017`을 같이 넘겨주면, 해당 시점 이후의 주식 데이터를 가져옵니다."
      ]
    },
    {
      "cell_type": "code",
      "execution_count": 9,
      "metadata": {
        "id": "o9RxPY3S8bUw"
      },
      "outputs": [],
      "source": [
        "# Apple(AAPL), 애플\n",
        "apple = fdr.DataReader('AAPL', '2017')"
      ]
    },
    {
      "cell_type": "code",
      "execution_count": 10,
      "metadata": {
        "id": "7BCGxqHh8bUw",
        "outputId": "acef3dc1-93a6-451f-e2b9-eb310577145d",
        "colab": {
          "base_uri": "https://localhost:8080/",
          "height": 237
        }
      },
      "outputs": [
        {
          "output_type": "execute_result",
          "data": {
            "text/plain": [
              "            Close   Open   High    Low       Volume  Change\n",
              "Date                                                       \n",
              "2017-01-03  29.04  28.95  29.08  28.69  115130000.0  0.0031\n",
              "2017-01-04  29.00  28.96  29.13  28.94   84470000.0 -0.0014\n",
              "2017-01-05  29.15  28.98  29.22  28.95   88770000.0  0.0052\n",
              "2017-01-06  29.48  29.20  29.54  29.12  127010000.0  0.0113\n",
              "2017-01-09  29.75  29.49  29.86  29.48  134250000.0  0.0092"
            ],
            "text/html": [
              "\n",
              "  <div id=\"df-2c59add9-59f4-49ea-b9ce-654964babaf7\">\n",
              "    <div class=\"colab-df-container\">\n",
              "      <div>\n",
              "<style scoped>\n",
              "    .dataframe tbody tr th:only-of-type {\n",
              "        vertical-align: middle;\n",
              "    }\n",
              "\n",
              "    .dataframe tbody tr th {\n",
              "        vertical-align: top;\n",
              "    }\n",
              "\n",
              "    .dataframe thead th {\n",
              "        text-align: right;\n",
              "    }\n",
              "</style>\n",
              "<table border=\"1\" class=\"dataframe\">\n",
              "  <thead>\n",
              "    <tr style=\"text-align: right;\">\n",
              "      <th></th>\n",
              "      <th>Close</th>\n",
              "      <th>Open</th>\n",
              "      <th>High</th>\n",
              "      <th>Low</th>\n",
              "      <th>Volume</th>\n",
              "      <th>Change</th>\n",
              "    </tr>\n",
              "    <tr>\n",
              "      <th>Date</th>\n",
              "      <th></th>\n",
              "      <th></th>\n",
              "      <th></th>\n",
              "      <th></th>\n",
              "      <th></th>\n",
              "      <th></th>\n",
              "    </tr>\n",
              "  </thead>\n",
              "  <tbody>\n",
              "    <tr>\n",
              "      <th>2017-01-03</th>\n",
              "      <td>29.04</td>\n",
              "      <td>28.95</td>\n",
              "      <td>29.08</td>\n",
              "      <td>28.69</td>\n",
              "      <td>115130000.0</td>\n",
              "      <td>0.0031</td>\n",
              "    </tr>\n",
              "    <tr>\n",
              "      <th>2017-01-04</th>\n",
              "      <td>29.00</td>\n",
              "      <td>28.96</td>\n",
              "      <td>29.13</td>\n",
              "      <td>28.94</td>\n",
              "      <td>84470000.0</td>\n",
              "      <td>-0.0014</td>\n",
              "    </tr>\n",
              "    <tr>\n",
              "      <th>2017-01-05</th>\n",
              "      <td>29.15</td>\n",
              "      <td>28.98</td>\n",
              "      <td>29.22</td>\n",
              "      <td>28.95</td>\n",
              "      <td>88770000.0</td>\n",
              "      <td>0.0052</td>\n",
              "    </tr>\n",
              "    <tr>\n",
              "      <th>2017-01-06</th>\n",
              "      <td>29.48</td>\n",
              "      <td>29.20</td>\n",
              "      <td>29.54</td>\n",
              "      <td>29.12</td>\n",
              "      <td>127010000.0</td>\n",
              "      <td>0.0113</td>\n",
              "    </tr>\n",
              "    <tr>\n",
              "      <th>2017-01-09</th>\n",
              "      <td>29.75</td>\n",
              "      <td>29.49</td>\n",
              "      <td>29.86</td>\n",
              "      <td>29.48</td>\n",
              "      <td>134250000.0</td>\n",
              "      <td>0.0092</td>\n",
              "    </tr>\n",
              "  </tbody>\n",
              "</table>\n",
              "</div>\n",
              "      <button class=\"colab-df-convert\" onclick=\"convertToInteractive('df-2c59add9-59f4-49ea-b9ce-654964babaf7')\"\n",
              "              title=\"Convert this dataframe to an interactive table.\"\n",
              "              style=\"display:none;\">\n",
              "        \n",
              "  <svg xmlns=\"http://www.w3.org/2000/svg\" height=\"24px\"viewBox=\"0 0 24 24\"\n",
              "       width=\"24px\">\n",
              "    <path d=\"M0 0h24v24H0V0z\" fill=\"none\"/>\n",
              "    <path d=\"M18.56 5.44l.94 2.06.94-2.06 2.06-.94-2.06-.94-.94-2.06-.94 2.06-2.06.94zm-11 1L8.5 8.5l.94-2.06 2.06-.94-2.06-.94L8.5 2.5l-.94 2.06-2.06.94zm10 10l.94 2.06.94-2.06 2.06-.94-2.06-.94-.94-2.06-.94 2.06-2.06.94z\"/><path d=\"M17.41 7.96l-1.37-1.37c-.4-.4-.92-.59-1.43-.59-.52 0-1.04.2-1.43.59L10.3 9.45l-7.72 7.72c-.78.78-.78 2.05 0 2.83L4 21.41c.39.39.9.59 1.41.59.51 0 1.02-.2 1.41-.59l7.78-7.78 2.81-2.81c.8-.78.8-2.07 0-2.86zM5.41 20L4 18.59l7.72-7.72 1.47 1.35L5.41 20z\"/>\n",
              "  </svg>\n",
              "      </button>\n",
              "      \n",
              "  <style>\n",
              "    .colab-df-container {\n",
              "      display:flex;\n",
              "      flex-wrap:wrap;\n",
              "      gap: 12px;\n",
              "    }\n",
              "\n",
              "    .colab-df-convert {\n",
              "      background-color: #E8F0FE;\n",
              "      border: none;\n",
              "      border-radius: 50%;\n",
              "      cursor: pointer;\n",
              "      display: none;\n",
              "      fill: #1967D2;\n",
              "      height: 32px;\n",
              "      padding: 0 0 0 0;\n",
              "      width: 32px;\n",
              "    }\n",
              "\n",
              "    .colab-df-convert:hover {\n",
              "      background-color: #E2EBFA;\n",
              "      box-shadow: 0px 1px 2px rgba(60, 64, 67, 0.3), 0px 1px 3px 1px rgba(60, 64, 67, 0.15);\n",
              "      fill: #174EA6;\n",
              "    }\n",
              "\n",
              "    [theme=dark] .colab-df-convert {\n",
              "      background-color: #3B4455;\n",
              "      fill: #D2E3FC;\n",
              "    }\n",
              "\n",
              "    [theme=dark] .colab-df-convert:hover {\n",
              "      background-color: #434B5C;\n",
              "      box-shadow: 0px 1px 3px 1px rgba(0, 0, 0, 0.15);\n",
              "      filter: drop-shadow(0px 1px 2px rgba(0, 0, 0, 0.3));\n",
              "      fill: #FFFFFF;\n",
              "    }\n",
              "  </style>\n",
              "\n",
              "      <script>\n",
              "        const buttonEl =\n",
              "          document.querySelector('#df-2c59add9-59f4-49ea-b9ce-654964babaf7 button.colab-df-convert');\n",
              "        buttonEl.style.display =\n",
              "          google.colab.kernel.accessAllowed ? 'block' : 'none';\n",
              "\n",
              "        async function convertToInteractive(key) {\n",
              "          const element = document.querySelector('#df-2c59add9-59f4-49ea-b9ce-654964babaf7');\n",
              "          const dataTable =\n",
              "            await google.colab.kernel.invokeFunction('convertToInteractive',\n",
              "                                                     [key], {});\n",
              "          if (!dataTable) return;\n",
              "\n",
              "          const docLinkHtml = 'Like what you see? Visit the ' +\n",
              "            '<a target=\"_blank\" href=https://colab.research.google.com/notebooks/data_table.ipynb>data table notebook</a>'\n",
              "            + ' to learn more about interactive tables.';\n",
              "          element.innerHTML = '';\n",
              "          dataTable['output_type'] = 'display_data';\n",
              "          await google.colab.output.renderOutput(dataTable, element);\n",
              "          const docLink = document.createElement('div');\n",
              "          docLink.innerHTML = docLinkHtml;\n",
              "          element.appendChild(docLink);\n",
              "        }\n",
              "      </script>\n",
              "    </div>\n",
              "  </div>\n",
              "  "
            ]
          },
          "metadata": {},
          "execution_count": 10
        }
      ],
      "source": [
        "apple.head()"
      ]
    },
    {
      "cell_type": "markdown",
      "metadata": {
        "id": "RDA4KZqA8bUw"
      },
      "source": [
        "**시작**과 **끝** 날짜를 지정하여 범위 데이터를 가져올 수 있습니다."
      ]
    },
    {
      "cell_type": "code",
      "execution_count": 11,
      "metadata": {
        "id": "rwNzRk9S8bUw"
      },
      "outputs": [],
      "source": [
        "# Ford(F), 1980-01-01 ~ 2019-12-30 (40년 데이터)\n",
        "ford = fdr.DataReader('F', '1980-01-01', '2019-12-30')"
      ]
    },
    {
      "cell_type": "code",
      "execution_count": 12,
      "metadata": {
        "id": "vvRyoh9A8bUw",
        "outputId": "2512eddf-b606-4b7c-dd53-a62de1ad1f8c",
        "colab": {
          "base_uri": "https://localhost:8080/",
          "height": 237
        }
      },
      "outputs": [
        {
          "output_type": "execute_result",
          "data": {
            "text/plain": [
              "            Close  Open  High   Low     Volume  Change\n",
              "Date                                                  \n",
              "1980-03-18   1.83  1.83  1.85  1.82  3770000.0 -0.0108\n",
              "1980-03-19   1.85  1.85  1.86  1.83  1560000.0  0.0109\n",
              "1980-03-20   1.86  1.86  1.88  1.85  1450000.0  0.0054\n",
              "1980-03-21   1.78  1.78  1.85  1.76  5020000.0 -0.0430\n",
              "1980-03-24   1.71  1.71  1.75  1.66  3330000.0 -0.0393"
            ],
            "text/html": [
              "\n",
              "  <div id=\"df-abd69541-6762-490f-9c73-bd45b1cd5eef\">\n",
              "    <div class=\"colab-df-container\">\n",
              "      <div>\n",
              "<style scoped>\n",
              "    .dataframe tbody tr th:only-of-type {\n",
              "        vertical-align: middle;\n",
              "    }\n",
              "\n",
              "    .dataframe tbody tr th {\n",
              "        vertical-align: top;\n",
              "    }\n",
              "\n",
              "    .dataframe thead th {\n",
              "        text-align: right;\n",
              "    }\n",
              "</style>\n",
              "<table border=\"1\" class=\"dataframe\">\n",
              "  <thead>\n",
              "    <tr style=\"text-align: right;\">\n",
              "      <th></th>\n",
              "      <th>Close</th>\n",
              "      <th>Open</th>\n",
              "      <th>High</th>\n",
              "      <th>Low</th>\n",
              "      <th>Volume</th>\n",
              "      <th>Change</th>\n",
              "    </tr>\n",
              "    <tr>\n",
              "      <th>Date</th>\n",
              "      <th></th>\n",
              "      <th></th>\n",
              "      <th></th>\n",
              "      <th></th>\n",
              "      <th></th>\n",
              "      <th></th>\n",
              "    </tr>\n",
              "  </thead>\n",
              "  <tbody>\n",
              "    <tr>\n",
              "      <th>1980-03-18</th>\n",
              "      <td>1.83</td>\n",
              "      <td>1.83</td>\n",
              "      <td>1.85</td>\n",
              "      <td>1.82</td>\n",
              "      <td>3770000.0</td>\n",
              "      <td>-0.0108</td>\n",
              "    </tr>\n",
              "    <tr>\n",
              "      <th>1980-03-19</th>\n",
              "      <td>1.85</td>\n",
              "      <td>1.85</td>\n",
              "      <td>1.86</td>\n",
              "      <td>1.83</td>\n",
              "      <td>1560000.0</td>\n",
              "      <td>0.0109</td>\n",
              "    </tr>\n",
              "    <tr>\n",
              "      <th>1980-03-20</th>\n",
              "      <td>1.86</td>\n",
              "      <td>1.86</td>\n",
              "      <td>1.88</td>\n",
              "      <td>1.85</td>\n",
              "      <td>1450000.0</td>\n",
              "      <td>0.0054</td>\n",
              "    </tr>\n",
              "    <tr>\n",
              "      <th>1980-03-21</th>\n",
              "      <td>1.78</td>\n",
              "      <td>1.78</td>\n",
              "      <td>1.85</td>\n",
              "      <td>1.76</td>\n",
              "      <td>5020000.0</td>\n",
              "      <td>-0.0430</td>\n",
              "    </tr>\n",
              "    <tr>\n",
              "      <th>1980-03-24</th>\n",
              "      <td>1.71</td>\n",
              "      <td>1.71</td>\n",
              "      <td>1.75</td>\n",
              "      <td>1.66</td>\n",
              "      <td>3330000.0</td>\n",
              "      <td>-0.0393</td>\n",
              "    </tr>\n",
              "  </tbody>\n",
              "</table>\n",
              "</div>\n",
              "      <button class=\"colab-df-convert\" onclick=\"convertToInteractive('df-abd69541-6762-490f-9c73-bd45b1cd5eef')\"\n",
              "              title=\"Convert this dataframe to an interactive table.\"\n",
              "              style=\"display:none;\">\n",
              "        \n",
              "  <svg xmlns=\"http://www.w3.org/2000/svg\" height=\"24px\"viewBox=\"0 0 24 24\"\n",
              "       width=\"24px\">\n",
              "    <path d=\"M0 0h24v24H0V0z\" fill=\"none\"/>\n",
              "    <path d=\"M18.56 5.44l.94 2.06.94-2.06 2.06-.94-2.06-.94-.94-2.06-.94 2.06-2.06.94zm-11 1L8.5 8.5l.94-2.06 2.06-.94-2.06-.94L8.5 2.5l-.94 2.06-2.06.94zm10 10l.94 2.06.94-2.06 2.06-.94-2.06-.94-.94-2.06-.94 2.06-2.06.94z\"/><path d=\"M17.41 7.96l-1.37-1.37c-.4-.4-.92-.59-1.43-.59-.52 0-1.04.2-1.43.59L10.3 9.45l-7.72 7.72c-.78.78-.78 2.05 0 2.83L4 21.41c.39.39.9.59 1.41.59.51 0 1.02-.2 1.41-.59l7.78-7.78 2.81-2.81c.8-.78.8-2.07 0-2.86zM5.41 20L4 18.59l7.72-7.72 1.47 1.35L5.41 20z\"/>\n",
              "  </svg>\n",
              "      </button>\n",
              "      \n",
              "  <style>\n",
              "    .colab-df-container {\n",
              "      display:flex;\n",
              "      flex-wrap:wrap;\n",
              "      gap: 12px;\n",
              "    }\n",
              "\n",
              "    .colab-df-convert {\n",
              "      background-color: #E8F0FE;\n",
              "      border: none;\n",
              "      border-radius: 50%;\n",
              "      cursor: pointer;\n",
              "      display: none;\n",
              "      fill: #1967D2;\n",
              "      height: 32px;\n",
              "      padding: 0 0 0 0;\n",
              "      width: 32px;\n",
              "    }\n",
              "\n",
              "    .colab-df-convert:hover {\n",
              "      background-color: #E2EBFA;\n",
              "      box-shadow: 0px 1px 2px rgba(60, 64, 67, 0.3), 0px 1px 3px 1px rgba(60, 64, 67, 0.15);\n",
              "      fill: #174EA6;\n",
              "    }\n",
              "\n",
              "    [theme=dark] .colab-df-convert {\n",
              "      background-color: #3B4455;\n",
              "      fill: #D2E3FC;\n",
              "    }\n",
              "\n",
              "    [theme=dark] .colab-df-convert:hover {\n",
              "      background-color: #434B5C;\n",
              "      box-shadow: 0px 1px 3px 1px rgba(0, 0, 0, 0.15);\n",
              "      filter: drop-shadow(0px 1px 2px rgba(0, 0, 0, 0.3));\n",
              "      fill: #FFFFFF;\n",
              "    }\n",
              "  </style>\n",
              "\n",
              "      <script>\n",
              "        const buttonEl =\n",
              "          document.querySelector('#df-abd69541-6762-490f-9c73-bd45b1cd5eef button.colab-df-convert');\n",
              "        buttonEl.style.display =\n",
              "          google.colab.kernel.accessAllowed ? 'block' : 'none';\n",
              "\n",
              "        async function convertToInteractive(key) {\n",
              "          const element = document.querySelector('#df-abd69541-6762-490f-9c73-bd45b1cd5eef');\n",
              "          const dataTable =\n",
              "            await google.colab.kernel.invokeFunction('convertToInteractive',\n",
              "                                                     [key], {});\n",
              "          if (!dataTable) return;\n",
              "\n",
              "          const docLinkHtml = 'Like what you see? Visit the ' +\n",
              "            '<a target=\"_blank\" href=https://colab.research.google.com/notebooks/data_table.ipynb>data table notebook</a>'\n",
              "            + ' to learn more about interactive tables.';\n",
              "          element.innerHTML = '';\n",
              "          dataTable['output_type'] = 'display_data';\n",
              "          await google.colab.output.renderOutput(dataTable, element);\n",
              "          const docLink = document.createElement('div');\n",
              "          docLink.innerHTML = docLinkHtml;\n",
              "          element.appendChild(docLink);\n",
              "        }\n",
              "      </script>\n",
              "    </div>\n",
              "  </div>\n",
              "  "
            ]
          },
          "metadata": {},
          "execution_count": 12
        }
      ],
      "source": [
        "ford.head()"
      ]
    },
    {
      "cell_type": "code",
      "execution_count": 13,
      "metadata": {
        "id": "dzXVc1mX8bUw",
        "outputId": "9df142aa-2410-4032-f36e-b207c1729a90",
        "colab": {
          "base_uri": "https://localhost:8080/",
          "height": 237
        }
      },
      "outputs": [
        {
          "output_type": "execute_result",
          "data": {
            "text/plain": [
              "            Close  Open  High   Low      Volume  Change\n",
              "Date                                                   \n",
              "2019-12-23   9.44  9.50  9.57  9.40  54800000.0 -0.0042\n",
              "2019-12-24   9.47  9.44  9.49  9.43  11880000.0  0.0032\n",
              "2019-12-26   9.45  9.47  9.49  9.43  28980000.0 -0.0021\n",
              "2019-12-27   9.36  9.45  9.46  9.35  28270000.0 -0.0095\n",
              "2019-12-30   9.25  9.34  9.35  9.23  36090000.0 -0.0118"
            ],
            "text/html": [
              "\n",
              "  <div id=\"df-88462710-23ba-4158-9747-3ec663cf1c67\">\n",
              "    <div class=\"colab-df-container\">\n",
              "      <div>\n",
              "<style scoped>\n",
              "    .dataframe tbody tr th:only-of-type {\n",
              "        vertical-align: middle;\n",
              "    }\n",
              "\n",
              "    .dataframe tbody tr th {\n",
              "        vertical-align: top;\n",
              "    }\n",
              "\n",
              "    .dataframe thead th {\n",
              "        text-align: right;\n",
              "    }\n",
              "</style>\n",
              "<table border=\"1\" class=\"dataframe\">\n",
              "  <thead>\n",
              "    <tr style=\"text-align: right;\">\n",
              "      <th></th>\n",
              "      <th>Close</th>\n",
              "      <th>Open</th>\n",
              "      <th>High</th>\n",
              "      <th>Low</th>\n",
              "      <th>Volume</th>\n",
              "      <th>Change</th>\n",
              "    </tr>\n",
              "    <tr>\n",
              "      <th>Date</th>\n",
              "      <th></th>\n",
              "      <th></th>\n",
              "      <th></th>\n",
              "      <th></th>\n",
              "      <th></th>\n",
              "      <th></th>\n",
              "    </tr>\n",
              "  </thead>\n",
              "  <tbody>\n",
              "    <tr>\n",
              "      <th>2019-12-23</th>\n",
              "      <td>9.44</td>\n",
              "      <td>9.50</td>\n",
              "      <td>9.57</td>\n",
              "      <td>9.40</td>\n",
              "      <td>54800000.0</td>\n",
              "      <td>-0.0042</td>\n",
              "    </tr>\n",
              "    <tr>\n",
              "      <th>2019-12-24</th>\n",
              "      <td>9.47</td>\n",
              "      <td>9.44</td>\n",
              "      <td>9.49</td>\n",
              "      <td>9.43</td>\n",
              "      <td>11880000.0</td>\n",
              "      <td>0.0032</td>\n",
              "    </tr>\n",
              "    <tr>\n",
              "      <th>2019-12-26</th>\n",
              "      <td>9.45</td>\n",
              "      <td>9.47</td>\n",
              "      <td>9.49</td>\n",
              "      <td>9.43</td>\n",
              "      <td>28980000.0</td>\n",
              "      <td>-0.0021</td>\n",
              "    </tr>\n",
              "    <tr>\n",
              "      <th>2019-12-27</th>\n",
              "      <td>9.36</td>\n",
              "      <td>9.45</td>\n",
              "      <td>9.46</td>\n",
              "      <td>9.35</td>\n",
              "      <td>28270000.0</td>\n",
              "      <td>-0.0095</td>\n",
              "    </tr>\n",
              "    <tr>\n",
              "      <th>2019-12-30</th>\n",
              "      <td>9.25</td>\n",
              "      <td>9.34</td>\n",
              "      <td>9.35</td>\n",
              "      <td>9.23</td>\n",
              "      <td>36090000.0</td>\n",
              "      <td>-0.0118</td>\n",
              "    </tr>\n",
              "  </tbody>\n",
              "</table>\n",
              "</div>\n",
              "      <button class=\"colab-df-convert\" onclick=\"convertToInteractive('df-88462710-23ba-4158-9747-3ec663cf1c67')\"\n",
              "              title=\"Convert this dataframe to an interactive table.\"\n",
              "              style=\"display:none;\">\n",
              "        \n",
              "  <svg xmlns=\"http://www.w3.org/2000/svg\" height=\"24px\"viewBox=\"0 0 24 24\"\n",
              "       width=\"24px\">\n",
              "    <path d=\"M0 0h24v24H0V0z\" fill=\"none\"/>\n",
              "    <path d=\"M18.56 5.44l.94 2.06.94-2.06 2.06-.94-2.06-.94-.94-2.06-.94 2.06-2.06.94zm-11 1L8.5 8.5l.94-2.06 2.06-.94-2.06-.94L8.5 2.5l-.94 2.06-2.06.94zm10 10l.94 2.06.94-2.06 2.06-.94-2.06-.94-.94-2.06-.94 2.06-2.06.94z\"/><path d=\"M17.41 7.96l-1.37-1.37c-.4-.4-.92-.59-1.43-.59-.52 0-1.04.2-1.43.59L10.3 9.45l-7.72 7.72c-.78.78-.78 2.05 0 2.83L4 21.41c.39.39.9.59 1.41.59.51 0 1.02-.2 1.41-.59l7.78-7.78 2.81-2.81c.8-.78.8-2.07 0-2.86zM5.41 20L4 18.59l7.72-7.72 1.47 1.35L5.41 20z\"/>\n",
              "  </svg>\n",
              "      </button>\n",
              "      \n",
              "  <style>\n",
              "    .colab-df-container {\n",
              "      display:flex;\n",
              "      flex-wrap:wrap;\n",
              "      gap: 12px;\n",
              "    }\n",
              "\n",
              "    .colab-df-convert {\n",
              "      background-color: #E8F0FE;\n",
              "      border: none;\n",
              "      border-radius: 50%;\n",
              "      cursor: pointer;\n",
              "      display: none;\n",
              "      fill: #1967D2;\n",
              "      height: 32px;\n",
              "      padding: 0 0 0 0;\n",
              "      width: 32px;\n",
              "    }\n",
              "\n",
              "    .colab-df-convert:hover {\n",
              "      background-color: #E2EBFA;\n",
              "      box-shadow: 0px 1px 2px rgba(60, 64, 67, 0.3), 0px 1px 3px 1px rgba(60, 64, 67, 0.15);\n",
              "      fill: #174EA6;\n",
              "    }\n",
              "\n",
              "    [theme=dark] .colab-df-convert {\n",
              "      background-color: #3B4455;\n",
              "      fill: #D2E3FC;\n",
              "    }\n",
              "\n",
              "    [theme=dark] .colab-df-convert:hover {\n",
              "      background-color: #434B5C;\n",
              "      box-shadow: 0px 1px 3px 1px rgba(0, 0, 0, 0.15);\n",
              "      filter: drop-shadow(0px 1px 2px rgba(0, 0, 0, 0.3));\n",
              "      fill: #FFFFFF;\n",
              "    }\n",
              "  </style>\n",
              "\n",
              "      <script>\n",
              "        const buttonEl =\n",
              "          document.querySelector('#df-88462710-23ba-4158-9747-3ec663cf1c67 button.colab-df-convert');\n",
              "        buttonEl.style.display =\n",
              "          google.colab.kernel.accessAllowed ? 'block' : 'none';\n",
              "\n",
              "        async function convertToInteractive(key) {\n",
              "          const element = document.querySelector('#df-88462710-23ba-4158-9747-3ec663cf1c67');\n",
              "          const dataTable =\n",
              "            await google.colab.kernel.invokeFunction('convertToInteractive',\n",
              "                                                     [key], {});\n",
              "          if (!dataTable) return;\n",
              "\n",
              "          const docLinkHtml = 'Like what you see? Visit the ' +\n",
              "            '<a target=\"_blank\" href=https://colab.research.google.com/notebooks/data_table.ipynb>data table notebook</a>'\n",
              "            + ' to learn more about interactive tables.';\n",
              "          element.innerHTML = '';\n",
              "          dataTable['output_type'] = 'display_data';\n",
              "          await google.colab.output.renderOutput(dataTable, element);\n",
              "          const docLink = document.createElement('div');\n",
              "          docLink.innerHTML = docLinkHtml;\n",
              "          element.appendChild(docLink);\n",
              "        }\n",
              "      </script>\n",
              "    </div>\n",
              "  </div>\n",
              "  "
            ]
          },
          "metadata": {},
          "execution_count": 13
        }
      ],
      "source": [
        "ford.tail()"
      ]
    },
    {
      "cell_type": "markdown",
      "metadata": {
        "id": "WZy8n5wy8bUx"
      },
      "source": [
        "그 밖에 **금, 은과 같은 현물**, **달러와 같은 화폐** 데이터도 가져올 수 있습니다."
      ]
    },
    {
      "cell_type": "code",
      "metadata": {
        "id": "RJtxeKQm0l2w"
      },
      "source": [
        "## 주가데이터 가져오기"
      ],
      "execution_count": null,
      "outputs": []
    },
    {
      "cell_type": "markdown",
      "metadata": {
        "id": "YWiG4J3F8bUx"
      },
      "source": [
        "**삼성전자**의 주가데이터를 가져와서 예측"
      ]
    },
    {
      "cell_type": "code",
      "execution_count": 14,
      "metadata": {
        "id": "WQR8Q7wI8bUx"
      },
      "outputs": [],
      "source": [
        "# 삼성전자 주식코드: 005930\n",
        "STOCK_CODE = '005930'"
      ]
    },
    {
      "cell_type": "code",
      "execution_count": 15,
      "metadata": {
        "id": "u1sCtxvc8bUx"
      },
      "outputs": [],
      "source": [
        "stock = fdr.DataReader(STOCK_CODE)"
      ]
    },
    {
      "cell_type": "code",
      "execution_count": 16,
      "metadata": {
        "id": "AKQgf-JO8bUx",
        "outputId": "0c042bb2-eaa9-470d-bfdb-49f247aa101f",
        "colab": {
          "base_uri": "https://localhost:8080/",
          "height": 237
        }
      },
      "outputs": [
        {
          "output_type": "execute_result",
          "data": {
            "text/plain": [
              "            Open  High   Low  Close  Volume    Change\n",
              "Date                                                 \n",
              "1998-05-04  1266  1275  1230   1240  274250       NaN\n",
              "1998-05-06  1219  1239  1204   1210  312220 -0.024194\n",
              "1998-05-07  1213  1245  1210   1233  316361  0.019008\n",
              "1998-05-08  1213  1232  1200   1210  333190 -0.018654\n",
              "1998-05-09  1210  1225  1210   1216   64040  0.004959"
            ],
            "text/html": [
              "\n",
              "  <div id=\"df-257e2914-1931-4702-b226-661025b4c1f7\">\n",
              "    <div class=\"colab-df-container\">\n",
              "      <div>\n",
              "<style scoped>\n",
              "    .dataframe tbody tr th:only-of-type {\n",
              "        vertical-align: middle;\n",
              "    }\n",
              "\n",
              "    .dataframe tbody tr th {\n",
              "        vertical-align: top;\n",
              "    }\n",
              "\n",
              "    .dataframe thead th {\n",
              "        text-align: right;\n",
              "    }\n",
              "</style>\n",
              "<table border=\"1\" class=\"dataframe\">\n",
              "  <thead>\n",
              "    <tr style=\"text-align: right;\">\n",
              "      <th></th>\n",
              "      <th>Open</th>\n",
              "      <th>High</th>\n",
              "      <th>Low</th>\n",
              "      <th>Close</th>\n",
              "      <th>Volume</th>\n",
              "      <th>Change</th>\n",
              "    </tr>\n",
              "    <tr>\n",
              "      <th>Date</th>\n",
              "      <th></th>\n",
              "      <th></th>\n",
              "      <th></th>\n",
              "      <th></th>\n",
              "      <th></th>\n",
              "      <th></th>\n",
              "    </tr>\n",
              "  </thead>\n",
              "  <tbody>\n",
              "    <tr>\n",
              "      <th>1998-05-04</th>\n",
              "      <td>1266</td>\n",
              "      <td>1275</td>\n",
              "      <td>1230</td>\n",
              "      <td>1240</td>\n",
              "      <td>274250</td>\n",
              "      <td>NaN</td>\n",
              "    </tr>\n",
              "    <tr>\n",
              "      <th>1998-05-06</th>\n",
              "      <td>1219</td>\n",
              "      <td>1239</td>\n",
              "      <td>1204</td>\n",
              "      <td>1210</td>\n",
              "      <td>312220</td>\n",
              "      <td>-0.024194</td>\n",
              "    </tr>\n",
              "    <tr>\n",
              "      <th>1998-05-07</th>\n",
              "      <td>1213</td>\n",
              "      <td>1245</td>\n",
              "      <td>1210</td>\n",
              "      <td>1233</td>\n",
              "      <td>316361</td>\n",
              "      <td>0.019008</td>\n",
              "    </tr>\n",
              "    <tr>\n",
              "      <th>1998-05-08</th>\n",
              "      <td>1213</td>\n",
              "      <td>1232</td>\n",
              "      <td>1200</td>\n",
              "      <td>1210</td>\n",
              "      <td>333190</td>\n",
              "      <td>-0.018654</td>\n",
              "    </tr>\n",
              "    <tr>\n",
              "      <th>1998-05-09</th>\n",
              "      <td>1210</td>\n",
              "      <td>1225</td>\n",
              "      <td>1210</td>\n",
              "      <td>1216</td>\n",
              "      <td>64040</td>\n",
              "      <td>0.004959</td>\n",
              "    </tr>\n",
              "  </tbody>\n",
              "</table>\n",
              "</div>\n",
              "      <button class=\"colab-df-convert\" onclick=\"convertToInteractive('df-257e2914-1931-4702-b226-661025b4c1f7')\"\n",
              "              title=\"Convert this dataframe to an interactive table.\"\n",
              "              style=\"display:none;\">\n",
              "        \n",
              "  <svg xmlns=\"http://www.w3.org/2000/svg\" height=\"24px\"viewBox=\"0 0 24 24\"\n",
              "       width=\"24px\">\n",
              "    <path d=\"M0 0h24v24H0V0z\" fill=\"none\"/>\n",
              "    <path d=\"M18.56 5.44l.94 2.06.94-2.06 2.06-.94-2.06-.94-.94-2.06-.94 2.06-2.06.94zm-11 1L8.5 8.5l.94-2.06 2.06-.94-2.06-.94L8.5 2.5l-.94 2.06-2.06.94zm10 10l.94 2.06.94-2.06 2.06-.94-2.06-.94-.94-2.06-.94 2.06-2.06.94z\"/><path d=\"M17.41 7.96l-1.37-1.37c-.4-.4-.92-.59-1.43-.59-.52 0-1.04.2-1.43.59L10.3 9.45l-7.72 7.72c-.78.78-.78 2.05 0 2.83L4 21.41c.39.39.9.59 1.41.59.51 0 1.02-.2 1.41-.59l7.78-7.78 2.81-2.81c.8-.78.8-2.07 0-2.86zM5.41 20L4 18.59l7.72-7.72 1.47 1.35L5.41 20z\"/>\n",
              "  </svg>\n",
              "      </button>\n",
              "      \n",
              "  <style>\n",
              "    .colab-df-container {\n",
              "      display:flex;\n",
              "      flex-wrap:wrap;\n",
              "      gap: 12px;\n",
              "    }\n",
              "\n",
              "    .colab-df-convert {\n",
              "      background-color: #E8F0FE;\n",
              "      border: none;\n",
              "      border-radius: 50%;\n",
              "      cursor: pointer;\n",
              "      display: none;\n",
              "      fill: #1967D2;\n",
              "      height: 32px;\n",
              "      padding: 0 0 0 0;\n",
              "      width: 32px;\n",
              "    }\n",
              "\n",
              "    .colab-df-convert:hover {\n",
              "      background-color: #E2EBFA;\n",
              "      box-shadow: 0px 1px 2px rgba(60, 64, 67, 0.3), 0px 1px 3px 1px rgba(60, 64, 67, 0.15);\n",
              "      fill: #174EA6;\n",
              "    }\n",
              "\n",
              "    [theme=dark] .colab-df-convert {\n",
              "      background-color: #3B4455;\n",
              "      fill: #D2E3FC;\n",
              "    }\n",
              "\n",
              "    [theme=dark] .colab-df-convert:hover {\n",
              "      background-color: #434B5C;\n",
              "      box-shadow: 0px 1px 3px 1px rgba(0, 0, 0, 0.15);\n",
              "      filter: drop-shadow(0px 1px 2px rgba(0, 0, 0, 0.3));\n",
              "      fill: #FFFFFF;\n",
              "    }\n",
              "  </style>\n",
              "\n",
              "      <script>\n",
              "        const buttonEl =\n",
              "          document.querySelector('#df-257e2914-1931-4702-b226-661025b4c1f7 button.colab-df-convert');\n",
              "        buttonEl.style.display =\n",
              "          google.colab.kernel.accessAllowed ? 'block' : 'none';\n",
              "\n",
              "        async function convertToInteractive(key) {\n",
              "          const element = document.querySelector('#df-257e2914-1931-4702-b226-661025b4c1f7');\n",
              "          const dataTable =\n",
              "            await google.colab.kernel.invokeFunction('convertToInteractive',\n",
              "                                                     [key], {});\n",
              "          if (!dataTable) return;\n",
              "\n",
              "          const docLinkHtml = 'Like what you see? Visit the ' +\n",
              "            '<a target=\"_blank\" href=https://colab.research.google.com/notebooks/data_table.ipynb>data table notebook</a>'\n",
              "            + ' to learn more about interactive tables.';\n",
              "          element.innerHTML = '';\n",
              "          dataTable['output_type'] = 'display_data';\n",
              "          await google.colab.output.renderOutput(dataTable, element);\n",
              "          const docLink = document.createElement('div');\n",
              "          docLink.innerHTML = docLinkHtml;\n",
              "          element.appendChild(docLink);\n",
              "        }\n",
              "      </script>\n",
              "    </div>\n",
              "  </div>\n",
              "  "
            ]
          },
          "metadata": {},
          "execution_count": 16
        }
      ],
      "source": [
        "stock.head()"
      ]
    },
    {
      "cell_type": "code",
      "execution_count": 17,
      "metadata": {
        "id": "fyrLPOtY8bUx",
        "outputId": "9d589cf5-7e2f-457f-e866-f7a5b007c3c6",
        "colab": {
          "base_uri": "https://localhost:8080/",
          "height": 237
        }
      },
      "outputs": [
        {
          "output_type": "execute_result",
          "data": {
            "text/plain": [
              "             Open   High    Low  Close    Volume    Change\n",
              "Date                                                      \n",
              "2022-07-01  56900  57500  55900  56200  24982097 -0.014035\n",
              "2022-07-04  56100  57400  55700  57100  17807126  0.016014\n",
              "2022-07-05  57600  58200  57200  57200  14216539  0.001751\n",
              "2022-07-06  57300  57300  56400  56400  16820461 -0.013986\n",
              "2022-07-07  56400  58700  56300  58200  21065788  0.031915"
            ],
            "text/html": [
              "\n",
              "  <div id=\"df-3e43ee27-d8a9-4cdb-81ff-eb5343378f4b\">\n",
              "    <div class=\"colab-df-container\">\n",
              "      <div>\n",
              "<style scoped>\n",
              "    .dataframe tbody tr th:only-of-type {\n",
              "        vertical-align: middle;\n",
              "    }\n",
              "\n",
              "    .dataframe tbody tr th {\n",
              "        vertical-align: top;\n",
              "    }\n",
              "\n",
              "    .dataframe thead th {\n",
              "        text-align: right;\n",
              "    }\n",
              "</style>\n",
              "<table border=\"1\" class=\"dataframe\">\n",
              "  <thead>\n",
              "    <tr style=\"text-align: right;\">\n",
              "      <th></th>\n",
              "      <th>Open</th>\n",
              "      <th>High</th>\n",
              "      <th>Low</th>\n",
              "      <th>Close</th>\n",
              "      <th>Volume</th>\n",
              "      <th>Change</th>\n",
              "    </tr>\n",
              "    <tr>\n",
              "      <th>Date</th>\n",
              "      <th></th>\n",
              "      <th></th>\n",
              "      <th></th>\n",
              "      <th></th>\n",
              "      <th></th>\n",
              "      <th></th>\n",
              "    </tr>\n",
              "  </thead>\n",
              "  <tbody>\n",
              "    <tr>\n",
              "      <th>2022-07-01</th>\n",
              "      <td>56900</td>\n",
              "      <td>57500</td>\n",
              "      <td>55900</td>\n",
              "      <td>56200</td>\n",
              "      <td>24982097</td>\n",
              "      <td>-0.014035</td>\n",
              "    </tr>\n",
              "    <tr>\n",
              "      <th>2022-07-04</th>\n",
              "      <td>56100</td>\n",
              "      <td>57400</td>\n",
              "      <td>55700</td>\n",
              "      <td>57100</td>\n",
              "      <td>17807126</td>\n",
              "      <td>0.016014</td>\n",
              "    </tr>\n",
              "    <tr>\n",
              "      <th>2022-07-05</th>\n",
              "      <td>57600</td>\n",
              "      <td>58200</td>\n",
              "      <td>57200</td>\n",
              "      <td>57200</td>\n",
              "      <td>14216539</td>\n",
              "      <td>0.001751</td>\n",
              "    </tr>\n",
              "    <tr>\n",
              "      <th>2022-07-06</th>\n",
              "      <td>57300</td>\n",
              "      <td>57300</td>\n",
              "      <td>56400</td>\n",
              "      <td>56400</td>\n",
              "      <td>16820461</td>\n",
              "      <td>-0.013986</td>\n",
              "    </tr>\n",
              "    <tr>\n",
              "      <th>2022-07-07</th>\n",
              "      <td>56400</td>\n",
              "      <td>58700</td>\n",
              "      <td>56300</td>\n",
              "      <td>58200</td>\n",
              "      <td>21065788</td>\n",
              "      <td>0.031915</td>\n",
              "    </tr>\n",
              "  </tbody>\n",
              "</table>\n",
              "</div>\n",
              "      <button class=\"colab-df-convert\" onclick=\"convertToInteractive('df-3e43ee27-d8a9-4cdb-81ff-eb5343378f4b')\"\n",
              "              title=\"Convert this dataframe to an interactive table.\"\n",
              "              style=\"display:none;\">\n",
              "        \n",
              "  <svg xmlns=\"http://www.w3.org/2000/svg\" height=\"24px\"viewBox=\"0 0 24 24\"\n",
              "       width=\"24px\">\n",
              "    <path d=\"M0 0h24v24H0V0z\" fill=\"none\"/>\n",
              "    <path d=\"M18.56 5.44l.94 2.06.94-2.06 2.06-.94-2.06-.94-.94-2.06-.94 2.06-2.06.94zm-11 1L8.5 8.5l.94-2.06 2.06-.94-2.06-.94L8.5 2.5l-.94 2.06-2.06.94zm10 10l.94 2.06.94-2.06 2.06-.94-2.06-.94-.94-2.06-.94 2.06-2.06.94z\"/><path d=\"M17.41 7.96l-1.37-1.37c-.4-.4-.92-.59-1.43-.59-.52 0-1.04.2-1.43.59L10.3 9.45l-7.72 7.72c-.78.78-.78 2.05 0 2.83L4 21.41c.39.39.9.59 1.41.59.51 0 1.02-.2 1.41-.59l7.78-7.78 2.81-2.81c.8-.78.8-2.07 0-2.86zM5.41 20L4 18.59l7.72-7.72 1.47 1.35L5.41 20z\"/>\n",
              "  </svg>\n",
              "      </button>\n",
              "      \n",
              "  <style>\n",
              "    .colab-df-container {\n",
              "      display:flex;\n",
              "      flex-wrap:wrap;\n",
              "      gap: 12px;\n",
              "    }\n",
              "\n",
              "    .colab-df-convert {\n",
              "      background-color: #E8F0FE;\n",
              "      border: none;\n",
              "      border-radius: 50%;\n",
              "      cursor: pointer;\n",
              "      display: none;\n",
              "      fill: #1967D2;\n",
              "      height: 32px;\n",
              "      padding: 0 0 0 0;\n",
              "      width: 32px;\n",
              "    }\n",
              "\n",
              "    .colab-df-convert:hover {\n",
              "      background-color: #E2EBFA;\n",
              "      box-shadow: 0px 1px 2px rgba(60, 64, 67, 0.3), 0px 1px 3px 1px rgba(60, 64, 67, 0.15);\n",
              "      fill: #174EA6;\n",
              "    }\n",
              "\n",
              "    [theme=dark] .colab-df-convert {\n",
              "      background-color: #3B4455;\n",
              "      fill: #D2E3FC;\n",
              "    }\n",
              "\n",
              "    [theme=dark] .colab-df-convert:hover {\n",
              "      background-color: #434B5C;\n",
              "      box-shadow: 0px 1px 3px 1px rgba(0, 0, 0, 0.15);\n",
              "      filter: drop-shadow(0px 1px 2px rgba(0, 0, 0, 0.3));\n",
              "      fill: #FFFFFF;\n",
              "    }\n",
              "  </style>\n",
              "\n",
              "      <script>\n",
              "        const buttonEl =\n",
              "          document.querySelector('#df-3e43ee27-d8a9-4cdb-81ff-eb5343378f4b button.colab-df-convert');\n",
              "        buttonEl.style.display =\n",
              "          google.colab.kernel.accessAllowed ? 'block' : 'none';\n",
              "\n",
              "        async function convertToInteractive(key) {\n",
              "          const element = document.querySelector('#df-3e43ee27-d8a9-4cdb-81ff-eb5343378f4b');\n",
              "          const dataTable =\n",
              "            await google.colab.kernel.invokeFunction('convertToInteractive',\n",
              "                                                     [key], {});\n",
              "          if (!dataTable) return;\n",
              "\n",
              "          const docLinkHtml = 'Like what you see? Visit the ' +\n",
              "            '<a target=\"_blank\" href=https://colab.research.google.com/notebooks/data_table.ipynb>data table notebook</a>'\n",
              "            + ' to learn more about interactive tables.';\n",
              "          element.innerHTML = '';\n",
              "          dataTable['output_type'] = 'display_data';\n",
              "          await google.colab.output.renderOutput(dataTable, element);\n",
              "          const docLink = document.createElement('div');\n",
              "          docLink.innerHTML = docLinkHtml;\n",
              "          element.appendChild(docLink);\n",
              "        }\n",
              "      </script>\n",
              "    </div>\n",
              "  </div>\n",
              "  "
            ]
          },
          "metadata": {},
          "execution_count": 17
        }
      ],
      "source": [
        "stock.tail()"
      ]
    },
    {
      "cell_type": "code",
      "execution_count": 18,
      "metadata": {
        "id": "fVOwZ9sA8bUy",
        "outputId": "9d645b38-6696-44bd-ede8-d201a1295d1c",
        "colab": {
          "base_uri": "https://localhost:8080/"
        }
      },
      "outputs": [
        {
          "output_type": "execute_result",
          "data": {
            "text/plain": [
              "DatetimeIndex(['1998-05-04', '1998-05-06', '1998-05-07', '1998-05-08',\n",
              "               '1998-05-09', '1998-05-11', '1998-05-12', '1998-05-13',\n",
              "               '1998-05-14', '1998-05-15',\n",
              "               ...\n",
              "               '2022-06-24', '2022-06-27', '2022-06-28', '2022-06-29',\n",
              "               '2022-06-30', '2022-07-01', '2022-07-04', '2022-07-05',\n",
              "               '2022-07-06', '2022-07-07'],\n",
              "              dtype='datetime64[ns]', name='Date', length=6000, freq=None)"
            ]
          },
          "metadata": {},
          "execution_count": 18
        }
      ],
      "source": [
        "stock.index"
      ]
    },
    {
      "cell_type": "markdown",
      "metadata": {
        "id": "bTgr472H8bUy"
      },
      "source": [
        "위에서 보시는 바와 같이 index가 `DatetimeIndex`로 지정되어 있습니다.\n",
        "\n",
        "`DatetimeIndex`로 정의되어 있다면, 아래와 같이 연도, 월, 일을 쪼갤 수 있으며, **월별, 연도별 피벗데이터**를 만들때 유용하게 활용할 수 있습니다."
      ]
    },
    {
      "cell_type": "code",
      "execution_count": 19,
      "metadata": {
        "id": "fif43Fh-0l4L"
      },
      "outputs": [],
      "source": [
        "stock['Year'] = stock.index.year\n",
        "stock['Month'] = stock.index.month\n",
        "stock['Day'] = stock.index.day"
      ]
    },
    {
      "cell_type": "code",
      "execution_count": 20,
      "metadata": {
        "colab": {
          "base_uri": "https://localhost:8080/",
          "height": 237
        },
        "id": "0yAKE9Ag0l4S",
        "outputId": "1341062d-c76b-4ef6-b95e-5781133a51b8"
      },
      "outputs": [
        {
          "output_type": "execute_result",
          "data": {
            "text/plain": [
              "            Open  High   Low  Close  Volume    Change  Year  Month  Day\n",
              "Date                                                                   \n",
              "1998-05-04  1266  1275  1230   1240  274250       NaN  1998      5    4\n",
              "1998-05-06  1219  1239  1204   1210  312220 -0.024194  1998      5    6\n",
              "1998-05-07  1213  1245  1210   1233  316361  0.019008  1998      5    7\n",
              "1998-05-08  1213  1232  1200   1210  333190 -0.018654  1998      5    8\n",
              "1998-05-09  1210  1225  1210   1216   64040  0.004959  1998      5    9"
            ],
            "text/html": [
              "\n",
              "  <div id=\"df-7dd42137-239a-4706-81e8-906534cb6b65\">\n",
              "    <div class=\"colab-df-container\">\n",
              "      <div>\n",
              "<style scoped>\n",
              "    .dataframe tbody tr th:only-of-type {\n",
              "        vertical-align: middle;\n",
              "    }\n",
              "\n",
              "    .dataframe tbody tr th {\n",
              "        vertical-align: top;\n",
              "    }\n",
              "\n",
              "    .dataframe thead th {\n",
              "        text-align: right;\n",
              "    }\n",
              "</style>\n",
              "<table border=\"1\" class=\"dataframe\">\n",
              "  <thead>\n",
              "    <tr style=\"text-align: right;\">\n",
              "      <th></th>\n",
              "      <th>Open</th>\n",
              "      <th>High</th>\n",
              "      <th>Low</th>\n",
              "      <th>Close</th>\n",
              "      <th>Volume</th>\n",
              "      <th>Change</th>\n",
              "      <th>Year</th>\n",
              "      <th>Month</th>\n",
              "      <th>Day</th>\n",
              "    </tr>\n",
              "    <tr>\n",
              "      <th>Date</th>\n",
              "      <th></th>\n",
              "      <th></th>\n",
              "      <th></th>\n",
              "      <th></th>\n",
              "      <th></th>\n",
              "      <th></th>\n",
              "      <th></th>\n",
              "      <th></th>\n",
              "      <th></th>\n",
              "    </tr>\n",
              "  </thead>\n",
              "  <tbody>\n",
              "    <tr>\n",
              "      <th>1998-05-04</th>\n",
              "      <td>1266</td>\n",
              "      <td>1275</td>\n",
              "      <td>1230</td>\n",
              "      <td>1240</td>\n",
              "      <td>274250</td>\n",
              "      <td>NaN</td>\n",
              "      <td>1998</td>\n",
              "      <td>5</td>\n",
              "      <td>4</td>\n",
              "    </tr>\n",
              "    <tr>\n",
              "      <th>1998-05-06</th>\n",
              "      <td>1219</td>\n",
              "      <td>1239</td>\n",
              "      <td>1204</td>\n",
              "      <td>1210</td>\n",
              "      <td>312220</td>\n",
              "      <td>-0.024194</td>\n",
              "      <td>1998</td>\n",
              "      <td>5</td>\n",
              "      <td>6</td>\n",
              "    </tr>\n",
              "    <tr>\n",
              "      <th>1998-05-07</th>\n",
              "      <td>1213</td>\n",
              "      <td>1245</td>\n",
              "      <td>1210</td>\n",
              "      <td>1233</td>\n",
              "      <td>316361</td>\n",
              "      <td>0.019008</td>\n",
              "      <td>1998</td>\n",
              "      <td>5</td>\n",
              "      <td>7</td>\n",
              "    </tr>\n",
              "    <tr>\n",
              "      <th>1998-05-08</th>\n",
              "      <td>1213</td>\n",
              "      <td>1232</td>\n",
              "      <td>1200</td>\n",
              "      <td>1210</td>\n",
              "      <td>333190</td>\n",
              "      <td>-0.018654</td>\n",
              "      <td>1998</td>\n",
              "      <td>5</td>\n",
              "      <td>8</td>\n",
              "    </tr>\n",
              "    <tr>\n",
              "      <th>1998-05-09</th>\n",
              "      <td>1210</td>\n",
              "      <td>1225</td>\n",
              "      <td>1210</td>\n",
              "      <td>1216</td>\n",
              "      <td>64040</td>\n",
              "      <td>0.004959</td>\n",
              "      <td>1998</td>\n",
              "      <td>5</td>\n",
              "      <td>9</td>\n",
              "    </tr>\n",
              "  </tbody>\n",
              "</table>\n",
              "</div>\n",
              "      <button class=\"colab-df-convert\" onclick=\"convertToInteractive('df-7dd42137-239a-4706-81e8-906534cb6b65')\"\n",
              "              title=\"Convert this dataframe to an interactive table.\"\n",
              "              style=\"display:none;\">\n",
              "        \n",
              "  <svg xmlns=\"http://www.w3.org/2000/svg\" height=\"24px\"viewBox=\"0 0 24 24\"\n",
              "       width=\"24px\">\n",
              "    <path d=\"M0 0h24v24H0V0z\" fill=\"none\"/>\n",
              "    <path d=\"M18.56 5.44l.94 2.06.94-2.06 2.06-.94-2.06-.94-.94-2.06-.94 2.06-2.06.94zm-11 1L8.5 8.5l.94-2.06 2.06-.94-2.06-.94L8.5 2.5l-.94 2.06-2.06.94zm10 10l.94 2.06.94-2.06 2.06-.94-2.06-.94-.94-2.06-.94 2.06-2.06.94z\"/><path d=\"M17.41 7.96l-1.37-1.37c-.4-.4-.92-.59-1.43-.59-.52 0-1.04.2-1.43.59L10.3 9.45l-7.72 7.72c-.78.78-.78 2.05 0 2.83L4 21.41c.39.39.9.59 1.41.59.51 0 1.02-.2 1.41-.59l7.78-7.78 2.81-2.81c.8-.78.8-2.07 0-2.86zM5.41 20L4 18.59l7.72-7.72 1.47 1.35L5.41 20z\"/>\n",
              "  </svg>\n",
              "      </button>\n",
              "      \n",
              "  <style>\n",
              "    .colab-df-container {\n",
              "      display:flex;\n",
              "      flex-wrap:wrap;\n",
              "      gap: 12px;\n",
              "    }\n",
              "\n",
              "    .colab-df-convert {\n",
              "      background-color: #E8F0FE;\n",
              "      border: none;\n",
              "      border-radius: 50%;\n",
              "      cursor: pointer;\n",
              "      display: none;\n",
              "      fill: #1967D2;\n",
              "      height: 32px;\n",
              "      padding: 0 0 0 0;\n",
              "      width: 32px;\n",
              "    }\n",
              "\n",
              "    .colab-df-convert:hover {\n",
              "      background-color: #E2EBFA;\n",
              "      box-shadow: 0px 1px 2px rgba(60, 64, 67, 0.3), 0px 1px 3px 1px rgba(60, 64, 67, 0.15);\n",
              "      fill: #174EA6;\n",
              "    }\n",
              "\n",
              "    [theme=dark] .colab-df-convert {\n",
              "      background-color: #3B4455;\n",
              "      fill: #D2E3FC;\n",
              "    }\n",
              "\n",
              "    [theme=dark] .colab-df-convert:hover {\n",
              "      background-color: #434B5C;\n",
              "      box-shadow: 0px 1px 3px 1px rgba(0, 0, 0, 0.15);\n",
              "      filter: drop-shadow(0px 1px 2px rgba(0, 0, 0, 0.3));\n",
              "      fill: #FFFFFF;\n",
              "    }\n",
              "  </style>\n",
              "\n",
              "      <script>\n",
              "        const buttonEl =\n",
              "          document.querySelector('#df-7dd42137-239a-4706-81e8-906534cb6b65 button.colab-df-convert');\n",
              "        buttonEl.style.display =\n",
              "          google.colab.kernel.accessAllowed ? 'block' : 'none';\n",
              "\n",
              "        async function convertToInteractive(key) {\n",
              "          const element = document.querySelector('#df-7dd42137-239a-4706-81e8-906534cb6b65');\n",
              "          const dataTable =\n",
              "            await google.colab.kernel.invokeFunction('convertToInteractive',\n",
              "                                                     [key], {});\n",
              "          if (!dataTable) return;\n",
              "\n",
              "          const docLinkHtml = 'Like what you see? Visit the ' +\n",
              "            '<a target=\"_blank\" href=https://colab.research.google.com/notebooks/data_table.ipynb>data table notebook</a>'\n",
              "            + ' to learn more about interactive tables.';\n",
              "          element.innerHTML = '';\n",
              "          dataTable['output_type'] = 'display_data';\n",
              "          await google.colab.output.renderOutput(dataTable, element);\n",
              "          const docLink = document.createElement('div');\n",
              "          docLink.innerHTML = docLinkHtml;\n",
              "          element.appendChild(docLink);\n",
              "        }\n",
              "      </script>\n",
              "    </div>\n",
              "  </div>\n",
              "  "
            ]
          },
          "metadata": {},
          "execution_count": 20
        }
      ],
      "source": [
        "stock.head()"
      ]
    },
    {
      "cell_type": "markdown",
      "metadata": {
        "id": "5FBTlube0l4d"
      },
      "source": [
        "## 시각화"
      ]
    },
    {
      "cell_type": "code",
      "execution_count": 21,
      "metadata": {
        "colab": {
          "base_uri": "https://localhost:8080/",
          "height": 569
        },
        "id": "MWcaWEa80l4o",
        "outputId": "8b84e83f-b6fa-41dc-fb1b-091f993504ee"
      },
      "outputs": [
        {
          "output_type": "execute_result",
          "data": {
            "text/plain": [
              "Text(0, 0.5, 'price')"
            ]
          },
          "metadata": {},
          "execution_count": 21
        },
        {
          "output_type": "stream",
          "name": "stderr",
          "text": [
            "findfont: Font family ['NanumGothic'] not found. Falling back to DejaVu Sans.\n"
          ]
        },
        {
          "output_type": "display_data",
          "data": {
            "text/plain": [
              "<Figure size 1152x648 with 1 Axes>"
            ],
            "image/png": "[encoded data removed]"
          },
          "metadata": {
            "needs_background": "light"
          }
        }
      ],
      "source": [
        "plt.figure(figsize=(16, 9))\n",
        "sns.lineplot(y=stock['Close'], x=stock.index)\n",
        "plt.xlabel('time')\n",
        "plt.ylabel('price')"
      ]
    },
    {
      "cell_type": "code",
      "execution_count": 22,
      "metadata": {
        "id": "bmhVqqJw8bUy",
        "outputId": "555eb8f3-1955-4992-9118-94a4d72be507",
        "colab": {
          "base_uri": "https://localhost:8080/",
          "height": 675
        }
      },
      "outputs": [
        {
          "output_type": "stream",
          "name": "stderr",
          "text": [
            "findfont: Font family ['NanumGothic'] not found. Falling back to DejaVu Sans.\n"
          ]
        },
        {
          "output_type": "display_data",
          "data": {
            "text/plain": [
              "<Figure size 1152x648 with 4 Axes>"
            ],
            "image/png": "[encoded data removed]"
          },
          "metadata": {
            "needs_background": "light"
          }
        }
      ],
      "source": [
        "time_steps = [['1990', '2000'], # 특정기간을 설정하여 subplot 표현\n",
        "              ['2000', '2010'], \n",
        "              ['2010', '2015'], \n",
        "              ['2015', '2020']]\n",
        "\n",
        "fig, axes = plt.subplots(2, 2)\n",
        "fig.set_size_inches(16, 9)\n",
        "for i in range(4):\n",
        "    ax = axes[i//2, i%2]\n",
        "    df = stock.loc[(stock.index > time_steps[i][0]) & (stock.index < time_steps[i][1])]\n",
        "    sns.lineplot(y=df['Close'], x=df.index, ax=ax) # 선형플롯\n",
        "    ax.set_title(f'{time_steps[i][0]}~{time_steps[i][1]}')\n",
        "    ax.set_xlabel('time')\n",
        "    ax.set_ylabel('price')\n",
        "plt.tight_layout()\n",
        "plt.show()"
      ]
    },
    {
      "cell_type": "markdown",
      "metadata": {
        "id": "Fz7k20jh8bUz"
      },
      "source": [
        "## 데이터 전처리"
      ]
    },
    {
      "cell_type": "markdown",
      "metadata": {
        "id": "ufa3Y0xx8bUz"
      },
      "source": [
        "주가 데이터에 대하여 딥러닝 모델이 더 잘 학습할 수 있도록 **정규화(Normalization)**를 해주도록 하겠습니다.\n",
        "\n",
        "**표준화 (Standardization)**와 **정규화(Normalization)**에 대한 내용은 아래 링크에서 더 자세히 다루니, 참고해 보시기 바랍니다.\n",
        "\n",
        "- [데이터 전처리에 관하여](https://teddylee777.github.io/scikit-learn/scikit-learn-preprocessing)"
      ]
    },
    {
      "cell_type": "code",
      "execution_count": 23,
      "metadata": {
        "id": "4-4PgRMZ0l5Q",
        "outputId": "a2fd0a64-d073-46f4-dbb7-0f92a779a289",
        "colab": {
          "base_uri": "https://localhost:8080/"
        }
      },
      "outputs": [
        {
          "output_type": "execute_result",
          "data": {
            "text/plain": [
              "array([[0.01401993, 0.01317149, 0.01374302, 0.00666209, 0.00303689],\n",
              "       [0.01349945, 0.01279959, 0.01345251, 0.00633009, 0.00345735],\n",
              "       [0.013433  , 0.01286157, 0.01351955, 0.00658463, 0.0035032 ],\n",
              "       ...,\n",
              "       [0.63787375, 0.60123967, 0.63910615, 0.62594896, 0.15742599],\n",
              "       [0.6345515 , 0.59194215, 0.6301676 , 0.61709568, 0.18626036],\n",
              "       [0.62458472, 0.60640496, 0.62905028, 0.63701556, 0.23327073]])"
            ]
          },
          "metadata": {},
          "execution_count": 23
        }
      ],
      "source": [
        "from sklearn.preprocessing import MinMaxScaler\n",
        "\n",
        "scaler = MinMaxScaler() # MinMaxScaler 인스턴스화\n",
        "\n",
        "# 스케일을 적용할 column을 정의합니다.\n",
        "scale_cols = ['Open', 'High', 'Low', 'Close', 'Volume']\n",
        "\n",
        "# 스케일 후 columns\n",
        "scaled = scaler.fit_transform(stock[scale_cols])\n",
        "scaled"
      ]
    },
    {
      "cell_type": "markdown",
      "metadata": {
        "id": "DiY_n3uZ8bUz"
      },
      "source": [
        "스케일이 완료된 column으로 새로운 데이터프레임을 생성합니다.\n",
        "\n",
        "**시간 순으로 정렬**되어 있으며, datetime index는 제외\n",
        "\n",
        "*6,000개의 row, 5개 column*으로 이루어진 데이터셋이 DataFrame으로 정리되었습니다."
      ]
    },
    {
      "cell_type": "code",
      "execution_count": 24,
      "metadata": {
        "id": "dIJjE21B0l5m",
        "colab": {
          "base_uri": "https://localhost:8080/"
        },
        "outputId": "290900dc-e6fa-42c2-b799-bf97b7812247"
      },
      "outputs": [
        {
          "output_type": "stream",
          "name": "stdout",
          "text": [
            "<class 'pandas.core.frame.DataFrame'>\n",
            "RangeIndex: 6000 entries, 0 to 5999\n",
            "Data columns (total 5 columns):\n",
            " #   Column  Non-Null Count  Dtype  \n",
            "---  ------  --------------  -----  \n",
            " 0   Open    6000 non-null   float64\n",
            " 1   High    6000 non-null   float64\n",
            " 2   Low     6000 non-null   float64\n",
            " 3   Close   6000 non-null   float64\n",
            " 4   Volume  6000 non-null   float64\n",
            "dtypes: float64(5)\n",
            "memory usage: 234.5 KB\n"
          ]
        }
      ],
      "source": [
        "df = pd.DataFrame(scaled, columns=scale_cols)\n",
        "df.info()"
      ]
    },
    {
      "cell_type": "markdown",
      "metadata": {
        "id": "2tn-HRL98bUz"
      },
      "source": [
        "## train / test 분할"
      ]
    },
    {
      "cell_type": "code",
      "execution_count": 25,
      "metadata": {
        "id": "vo--zFeu8bUz"
      },
      "outputs": [],
      "source": [
        "from sklearn.model_selection import train_test_split"
      ]
    },
    {
      "cell_type": "code",
      "execution_count": 26,
      "metadata": {
        "id": "KVlPZmfS8bUz"
      },
      "outputs": [],
      "source": [
        "x_train, x_test, y_train, y_test = train_test_split(df.drop('Close', 1), df['Close'], test_size=0.2, random_state=0, shuffle=False)"
      ]
    },
    {
      "cell_type": "code",
      "execution_count": 27,
      "metadata": {
        "id": "r2xqgJS78bUz",
        "outputId": "9a2bd903-5320-4fb7-b02f-9229764da939",
        "colab": {
          "base_uri": "https://localhost:8080/"
        }
      },
      "outputs": [
        {
          "output_type": "execute_result",
          "data": {
            "text/plain": [
              "((4800, 4), (4800,))"
            ]
          },
          "metadata": {},
          "execution_count": 27
        }
      ],
      "source": [
        "x_train.shape, y_train.shape"
      ]
    },
    {
      "cell_type": "code",
      "execution_count": 28,
      "metadata": {
        "id": "h6Co6zHg8bU0",
        "outputId": "91f99910-de0e-4880-f361-f948a9dfe911",
        "colab": {
          "base_uri": "https://localhost:8080/"
        }
      },
      "outputs": [
        {
          "output_type": "execute_result",
          "data": {
            "text/plain": [
              "((1200, 4), (1200,))"
            ]
          },
          "metadata": {},
          "execution_count": 28
        }
      ],
      "source": [
        "x_test.shape, y_test.shape"
      ]
    },
    {
      "cell_type": "code",
      "execution_count": 29,
      "metadata": {
        "id": "jnhrPUQa8bU0",
        "outputId": "aa40eb67-d990-499e-9585-fe885bd969dc",
        "colab": {
          "base_uri": "https://localhost:8080/",
          "height": 423
        }
      },
      "outputs": [
        {
          "output_type": "execute_result",
          "data": {
            "text/plain": [
              "          Open      High       Low    Volume\n",
              "0     0.014020  0.013171  0.013743  0.003037\n",
              "1     0.013499  0.012800  0.013453  0.003457\n",
              "2     0.013433  0.012862  0.013520  0.003503\n",
              "3     0.013433  0.012727  0.013408  0.003690\n",
              "4     0.013400  0.012655  0.013520  0.000709\n",
              "...        ...       ...       ...       ...\n",
              "4795  0.511628  0.478512  0.507933  0.005091\n",
              "4796  0.499668  0.467975  0.494078  0.005627\n",
              "4797  0.499668  0.469008  0.499665  0.004249\n",
              "4798  0.511849  0.479132  0.513966  0.004853\n",
              "4799  0.520044  0.488636  0.522235  0.002750\n",
              "\n",
              "[4800 rows x 4 columns]"
            ],
            "text/html": [
              "\n",
              "  <div id=\"df-2531f2fb-98e4-48c4-bfbe-5b1d77f2b39e\">\n",
              "    <div class=\"colab-df-container\">\n",
              "      <div>\n",
              "<style scoped>\n",
              "    .dataframe tbody tr th:only-of-type {\n",
              "        vertical-align: middle;\n",
              "    }\n",
              "\n",
              "    .dataframe tbody tr th {\n",
              "        vertical-align: top;\n",
              "    }\n",
              "\n",
              "    .dataframe thead th {\n",
              "        text-align: right;\n",
              "    }\n",
              "</style>\n",
              "<table border=\"1\" class=\"dataframe\">\n",
              "  <thead>\n",
              "    <tr style=\"text-align: right;\">\n",
              "      <th></th>\n",
              "      <th>Open</th>\n",
              "      <th>High</th>\n",
              "      <th>Low</th>\n",
              "      <th>Volume</th>\n",
              "    </tr>\n",
              "  </thead>\n",
              "  <tbody>\n",
              "    <tr>\n",
              "      <th>0</th>\n",
              "      <td>0.014020</td>\n",
              "      <td>0.013171</td>\n",
              "      <td>0.013743</td>\n",
              "      <td>0.003037</td>\n",
              "    </tr>\n",
              "    <tr>\n",
              "      <th>1</th>\n",
              "      <td>0.013499</td>\n",
              "      <td>0.012800</td>\n",
              "      <td>0.013453</td>\n",
              "      <td>0.003457</td>\n",
              "    </tr>\n",
              "    <tr>\n",
              "      <th>2</th>\n",
              "      <td>0.013433</td>\n",
              "      <td>0.012862</td>\n",
              "      <td>0.013520</td>\n",
              "      <td>0.003503</td>\n",
              "    </tr>\n",
              "    <tr>\n",
              "      <th>3</th>\n",
              "      <td>0.013433</td>\n",
              "      <td>0.012727</td>\n",
              "      <td>0.013408</td>\n",
              "      <td>0.003690</td>\n",
              "    </tr>\n",
              "    <tr>\n",
              "      <th>4</th>\n",
              "      <td>0.013400</td>\n",
              "      <td>0.012655</td>\n",
              "      <td>0.013520</td>\n",
              "      <td>0.000709</td>\n",
              "    </tr>\n",
              "    <tr>\n",
              "      <th>...</th>\n",
              "      <td>...</td>\n",
              "      <td>...</td>\n",
              "      <td>...</td>\n",
              "      <td>...</td>\n",
              "    </tr>\n",
              "    <tr>\n",
              "      <th>4795</th>\n",
              "      <td>0.511628</td>\n",
              "      <td>0.478512</td>\n",
              "      <td>0.507933</td>\n",
              "      <td>0.005091</td>\n",
              "    </tr>\n",
              "    <tr>\n",
              "      <th>4796</th>\n",
              "      <td>0.499668</td>\n",
              "      <td>0.467975</td>\n",
              "      <td>0.494078</td>\n",
              "      <td>0.005627</td>\n",
              "    </tr>\n",
              "    <tr>\n",
              "      <th>4797</th>\n",
              "      <td>0.499668</td>\n",
              "      <td>0.469008</td>\n",
              "      <td>0.499665</td>\n",
              "      <td>0.004249</td>\n",
              "    </tr>\n",
              "    <tr>\n",
              "      <th>4798</th>\n",
              "      <td>0.511849</td>\n",
              "      <td>0.479132</td>\n",
              "      <td>0.513966</td>\n",
              "      <td>0.004853</td>\n",
              "    </tr>\n",
              "    <tr>\n",
              "      <th>4799</th>\n",
              "      <td>0.520044</td>\n",
              "      <td>0.488636</td>\n",
              "      <td>0.522235</td>\n",
              "      <td>0.002750</td>\n",
              "    </tr>\n",
              "  </tbody>\n",
              "</table>\n",
              "<p>4800 rows × 4 columns</p>\n",
              "</div>\n",
              "      <button class=\"colab-df-convert\" onclick=\"convertToInteractive('df-2531f2fb-98e4-48c4-bfbe-5b1d77f2b39e')\"\n",
              "              title=\"Convert this dataframe to an interactive table.\"\n",
              "              style=\"display:none;\">\n",
              "        \n",
              "  <svg xmlns=\"http://www.w3.org/2000/svg\" height=\"24px\"viewBox=\"0 0 24 24\"\n",
              "       width=\"24px\">\n",
              "    <path d=\"M0 0h24v24H0V0z\" fill=\"none\"/>\n",
              "    <path d=\"M18.56 5.44l.94 2.06.94-2.06 2.06-.94-2.06-.94-.94-2.06-.94 2.06-2.06.94zm-11 1L8.5 8.5l.94-2.06 2.06-.94-2.06-.94L8.5 2.5l-.94 2.06-2.06.94zm10 10l.94 2.06.94-2.06 2.06-.94-2.06-.94-.94-2.06-.94 2.06-2.06.94z\"/><path d=\"M17.41 7.96l-1.37-1.37c-.4-.4-.92-.59-1.43-.59-.52 0-1.04.2-1.43.59L10.3 9.45l-7.72 7.72c-.78.78-.78 2.05 0 2.83L4 21.41c.39.39.9.59 1.41.59.51 0 1.02-.2 1.41-.59l7.78-7.78 2.81-2.81c.8-.78.8-2.07 0-2.86zM5.41 20L4 18.59l7.72-7.72 1.47 1.35L5.41 20z\"/>\n",
              "  </svg>\n",
              "      </button>\n",
              "      \n",
              "  <style>\n",
              "    .colab-df-container {\n",
              "      display:flex;\n",
              "      flex-wrap:wrap;\n",
              "      gap: 12px;\n",
              "    }\n",
              "\n",
              "    .colab-df-convert {\n",
              "      background-color: #E8F0FE;\n",
              "      border: none;\n",
              "      border-radius: 50%;\n",
              "      cursor: pointer;\n",
              "      display: none;\n",
              "      fill: #1967D2;\n",
              "      height: 32px;\n",
              "      padding: 0 0 0 0;\n",
              "      width: 32px;\n",
              "    }\n",
              "\n",
              "    .colab-df-convert:hover {\n",
              "      background-color: #E2EBFA;\n",
              "      box-shadow: 0px 1px 2px rgba(60, 64, 67, 0.3), 0px 1px 3px 1px rgba(60, 64, 67, 0.15);\n",
              "      fill: #174EA6;\n",
              "    }\n",
              "\n",
              "    [theme=dark] .colab-df-convert {\n",
              "      background-color: #3B4455;\n",
              "      fill: #D2E3FC;\n",
              "    }\n",
              "\n",
              "    [theme=dark] .colab-df-convert:hover {\n",
              "      background-color: #434B5C;\n",
              "      box-shadow: 0px 1px 3px 1px rgba(0, 0, 0, 0.15);\n",
              "      filter: drop-shadow(0px 1px 2px rgba(0, 0, 0, 0.3));\n",
              "      fill: #FFFFFF;\n",
              "    }\n",
              "  </style>\n",
              "\n",
              "      <script>\n",
              "        const buttonEl =\n",
              "          document.querySelector('#df-2531f2fb-98e4-48c4-bfbe-5b1d77f2b39e button.colab-df-convert');\n",
              "        buttonEl.style.display =\n",
              "          google.colab.kernel.accessAllowed ? 'block' : 'none';\n",
              "\n",
              "        async function convertToInteractive(key) {\n",
              "          const element = document.querySelector('#df-2531f2fb-98e4-48c4-bfbe-5b1d77f2b39e');\n",
              "          const dataTable =\n",
              "            await google.colab.kernel.invokeFunction('convertToInteractive',\n",
              "                                                     [key], {});\n",
              "          if (!dataTable) return;\n",
              "\n",
              "          const docLinkHtml = 'Like what you see? Visit the ' +\n",
              "            '<a target=\"_blank\" href=https://colab.research.google.com/notebooks/data_table.ipynb>data table notebook</a>'\n",
              "            + ' to learn more about interactive tables.';\n",
              "          element.innerHTML = '';\n",
              "          dataTable['output_type'] = 'display_data';\n",
              "          await google.colab.output.renderOutput(dataTable, element);\n",
              "          const docLink = document.createElement('div');\n",
              "          docLink.innerHTML = docLinkHtml;\n",
              "          element.appendChild(docLink);\n",
              "        }\n",
              "      </script>\n",
              "    </div>\n",
              "  </div>\n",
              "  "
            ]
          },
          "metadata": {},
          "execution_count": 29
        }
      ],
      "source": [
        "x_train"
      ]
    },
    {
      "cell_type": "markdown",
      "metadata": {
        "id": "iLCpf4Uf8bU0"
      },
      "source": [
        "## TensroFlow Dataset을 활용한 시퀀스 데이터셋 구성"
      ]
    },
    {
      "cell_type": "code",
      "execution_count": 30,
      "metadata": {
        "id": "vaeaq5mK8bU0"
      },
      "outputs": [],
      "source": [
        "import tensorflow as tf"
      ]
    },
    {
      "cell_type": "code",
      "execution_count": 31,
      "metadata": {
        "id": "PHqUcRAM8bU0"
      },
      "outputs": [],
      "source": [
        "def windowed_dataset(series, window_size, batch_size, shuffle):\n",
        "    series = tf.expand_dims(series, axis=-1)\n",
        "    ds = tf.data.Dataset.from_tensor_slices(series)\n",
        "    ds = ds.window(window_size + 1, shift=1, drop_remainder=True)\n",
        "    ds = ds.flat_map(lambda w: w.batch(window_size + 1))\n",
        "    if shuffle:\n",
        "        ds = ds.shuffle(1000)\n",
        "    ds = ds.map(lambda w: (w[:-1], w[-1]))\n",
        "    return ds.batch(batch_size).prefetch(1)"
      ]
    },
    {
      "cell_type": "markdown",
      "metadata": {
        "id": "M5xr8Utj8bU0"
      },
      "source": [
        "Hyperparameter를 정의합니다."
      ]
    },
    {
      "cell_type": "code",
      "execution_count": 32,
      "metadata": {
        "id": "wknnGf098bU0"
      },
      "outputs": [],
      "source": [
        "WINDOW_SIZE=20\n",
        "BATCH_SIZE=32"
      ]
    },
    {
      "cell_type": "code",
      "execution_count": 33,
      "metadata": {
        "id": "l-wO0fly8bU0"
      },
      "outputs": [],
      "source": [
        "# trian_data는 학습용 데이터셋, test_data는 검증용 데이터셋 입니다.\n",
        "train_data = windowed_dataset(y_train, WINDOW_SIZE, BATCH_SIZE, True)\n",
        "test_data = windowed_dataset(y_test, WINDOW_SIZE, BATCH_SIZE, False)"
      ]
    },
    {
      "cell_type": "code",
      "execution_count": 34,
      "metadata": {
        "id": "-hfAGXaF8bU0",
        "outputId": "813e07f5-b03c-4ae6-b56f-d616b805c59b",
        "colab": {
          "base_uri": "https://localhost:8080/"
        }
      },
      "outputs": [
        {
          "output_type": "stream",
          "name": "stdout",
          "text": [
            "데이터셋(X) 구성(batch_size, window_size, feature갯수): (32, 20, 1)\n",
            "데이터셋(Y) 구성(batch_size, window_size, feature갯수): (32, 1)\n"
          ]
        }
      ],
      "source": [
        "# 아래의 코드로 데이터셋의 구성을 확인해 볼 수 있습니다.\n",
        "# X: (batch_size, window_size, feature)\n",
        "# Y: (batch_size, feature)\n",
        "for data in train_data.take(1):\n",
        "    print(f'데이터셋(X) 구성(batch_size, window_size, feature갯수): {data[0].shape}')\n",
        "    print(f'데이터셋(Y) 구성(batch_size, window_size, feature갯수): {data[1].shape}')"
      ]
    },
    {
      "cell_type": "markdown",
      "metadata": {
        "id": "M0bev95S8bU0"
      },
      "source": [
        "## 모델"
      ]
    },
    {
      "cell_type": "code",
      "execution_count": 35,
      "metadata": {
        "id": "mAkmGu1j0l8M"
      },
      "outputs": [],
      "source": [
        "from tensorflow.keras.models import Sequential\n",
        "from tensorflow.keras.layers import Dense, LSTM, Conv1D, Lambda\n",
        "from tensorflow.keras.losses import Huber\n",
        "from tensorflow.keras.optimizers import Adam\n",
        "from tensorflow.keras.callbacks import EarlyStopping, ModelCheckpoint\n",
        "\n",
        "\n",
        "model = Sequential([\n",
        "    # 1차원 feature map 생성\n",
        "    Conv1D(filters=32, kernel_size=5,\n",
        "           padding=\"causal\",\n",
        "           activation=\"relu\",\n",
        "           input_shape=[WINDOW_SIZE, 1]),\n",
        "    # LSTM\n",
        "    LSTM(16, activation='tanh'),\n",
        "    Dense(16, activation=\"relu\"),\n",
        "    Dense(1),\n",
        "])"
      ]
    },
    {
      "cell_type": "code",
      "execution_count": 36,
      "metadata": {
        "id": "xShll_EX0l8T"
      },
      "outputs": [],
      "source": [
        "# Sequence 학습에 비교적 좋은 퍼포먼스를 내는 Huber()를 사용합니다.\n",
        "loss = Huber()\n",
        "optimizer = Adam(0.0005)\n",
        "model.compile(loss=Huber(), optimizer=optimizer, metrics=['mse'])"
      ]
    },
    {
      "cell_type": "code",
      "execution_count": 37,
      "metadata": {
        "id": "6qrMbXx58bU1"
      },
      "outputs": [],
      "source": [
        "# earlystopping은 10번 epoch통안 val_loss 개선이 없다면 학습을 멈춥니다.\n",
        "earlystopping = EarlyStopping(monitor='val_loss', patience=10)\n",
        "# val_loss 기준 체크포인터도 생성합니다.\n",
        "filename = os.path.join('tmp', 'ckeckpointer.ckpt')\n",
        "checkpoint = ModelCheckpoint(filename, \n",
        "                             save_weights_only=True, \n",
        "                             save_best_only=True, \n",
        "                             monitor='val_loss', \n",
        "                             verbose=1)"
      ]
    },
    {
      "cell_type": "code",
      "execution_count": 38,
      "metadata": {
        "colab": {
          "base_uri": "https://localhost:8080/"
        },
        "outputId": "b27f30a9-ce51-4972-d3dc-15dd02221369",
        "id": "Lz-iuu2b8bU1"
      },
      "outputs": [
        {
          "output_type": "stream",
          "name": "stdout",
          "text": [
            "Epoch 1/50\n",
            "    150/Unknown - 15s 7ms/step - loss: 1.2258e-04 - mse: 2.4517e-04\n",
            "Epoch 1: val_loss improved from inf to 0.00146, saving model to tmp/ckeckpointer.ckpt\n",
            "150/150 [==============================] - 16s 14ms/step - loss: 1.2258e-04 - mse: 2.4517e-04 - val_loss: 0.0015 - val_mse: 0.0029\n",
            "Epoch 2/50\n",
            "144/150 [===========================>..] - ETA: 0s - loss: 2.8101e-05 - mse: 5.6201e-05\n",
            "Epoch 2: val_loss improved from 0.00146 to 0.00104, saving model to tmp/ckeckpointer.ckpt\n",
            "150/150 [==============================] - 1s 8ms/step - loss: 2.9337e-05 - mse: 5.8675e-05 - val_loss: 0.0010 - val_mse: 0.0021\n",
            "Epoch 3/50\n",
            "145/150 [============================>.] - ETA: 0s - loss: 2.6264e-05 - mse: 5.2528e-05\n",
            "Epoch 3: val_loss did not improve from 0.00104\n",
            "150/150 [==============================] - 1s 8ms/step - loss: 2.7044e-05 - mse: 5.4088e-05 - val_loss: 0.0010 - val_mse: 0.0021\n",
            "Epoch 4/50\n",
            "150/150 [==============================] - ETA: 0s - loss: 2.5880e-05 - mse: 5.1761e-05\n",
            "Epoch 4: val_loss improved from 0.00104 to 0.00089, saving model to tmp/ckeckpointer.ckpt\n",
            "150/150 [==============================] - 1s 8ms/step - loss: 2.5880e-05 - mse: 5.1761e-05 - val_loss: 8.8941e-04 - val_mse: 0.0018\n",
            "Epoch 5/50\n",
            "148/150 [============================>.] - ETA: 0s - loss: 2.6610e-05 - mse: 5.3219e-05\n",
            "Epoch 5: val_loss did not improve from 0.00089\n",
            "150/150 [==============================] - 1s 8ms/step - loss: 2.6661e-05 - mse: 5.3323e-05 - val_loss: 9.4827e-04 - val_mse: 0.0019\n",
            "Epoch 6/50\n",
            "142/150 [===========================>..] - ETA: 0s - loss: 2.4033e-05 - mse: 4.8066e-05\n",
            "Epoch 6: val_loss improved from 0.00089 to 0.00072, saving model to tmp/ckeckpointer.ckpt\n",
            "150/150 [==============================] - 1s 8ms/step - loss: 2.5088e-05 - mse: 5.0175e-05 - val_loss: 7.2342e-04 - val_mse: 0.0014\n",
            "Epoch 7/50\n",
            "146/150 [============================>.] - ETA: 0s - loss: 2.2332e-05 - mse: 4.4663e-05\n",
            "Epoch 7: val_loss did not improve from 0.00072\n",
            "150/150 [==============================] - 1s 8ms/step - loss: 2.3422e-05 - mse: 4.6844e-05 - val_loss: 9.1488e-04 - val_mse: 0.0018\n",
            "Epoch 8/50\n",
            "145/150 [============================>.] - ETA: 0s - loss: 2.1474e-05 - mse: 4.2947e-05\n",
            "Epoch 8: val_loss improved from 0.00072 to 0.00053, saving model to tmp/ckeckpointer.ckpt\n",
            "150/150 [==============================] - 1s 8ms/step - loss: 2.2208e-05 - mse: 4.4416e-05 - val_loss: 5.2785e-04 - val_mse: 0.0011\n",
            "Epoch 9/50\n",
            "146/150 [============================>.] - ETA: 0s - loss: 2.2364e-05 - mse: 4.4728e-05\n",
            "Epoch 9: val_loss improved from 0.00053 to 0.00052, saving model to tmp/ckeckpointer.ckpt\n",
            "150/150 [==============================] - 1s 8ms/step - loss: 2.2840e-05 - mse: 4.5680e-05 - val_loss: 5.2279e-04 - val_mse: 0.0010\n",
            "Epoch 10/50\n",
            "145/150 [============================>.] - ETA: 0s - loss: 2.0388e-05 - mse: 4.0775e-05\n",
            "Epoch 10: val_loss did not improve from 0.00052\n",
            "150/150 [==============================] - 1s 8ms/step - loss: 2.1125e-05 - mse: 4.2250e-05 - val_loss: 6.1862e-04 - val_mse: 0.0012\n",
            "Epoch 11/50\n",
            "144/150 [===========================>..] - ETA: 0s - loss: 2.0755e-05 - mse: 4.1510e-05\n",
            "Epoch 11: val_loss improved from 0.00052 to 0.00043, saving model to tmp/ckeckpointer.ckpt\n",
            "150/150 [==============================] - 1s 8ms/step - loss: 2.1357e-05 - mse: 4.2714e-05 - val_loss: 4.2896e-04 - val_mse: 8.5793e-04\n",
            "Epoch 12/50\n",
            "147/150 [============================>.] - ETA: 0s - loss: 1.8901e-05 - mse: 3.7802e-05\n",
            "Epoch 12: val_loss did not improve from 0.00043\n",
            "150/150 [==============================] - 1s 8ms/step - loss: 1.9296e-05 - mse: 3.8593e-05 - val_loss: 5.3808e-04 - val_mse: 0.0011\n",
            "Epoch 13/50\n",
            "145/150 [============================>.] - ETA: 0s - loss: 1.8566e-05 - mse: 3.7132e-05\n",
            "Epoch 13: val_loss did not improve from 0.00043\n",
            "150/150 [==============================] - 1s 8ms/step - loss: 1.9308e-05 - mse: 3.8615e-05 - val_loss: 4.5397e-04 - val_mse: 9.0793e-04\n",
            "Epoch 14/50\n",
            "149/150 [============================>.] - ETA: 0s - loss: 1.8349e-05 - mse: 3.6699e-05\n",
            "Epoch 14: val_loss improved from 0.00043 to 0.00038, saving model to tmp/ckeckpointer.ckpt\n",
            "150/150 [==============================] - 1s 9ms/step - loss: 1.8426e-05 - mse: 3.6852e-05 - val_loss: 3.7797e-04 - val_mse: 7.5595e-04\n",
            "Epoch 15/50\n",
            "141/150 [===========================>..] - ETA: 0s - loss: 1.6623e-05 - mse: 3.3246e-05\n",
            "Epoch 15: val_loss improved from 0.00038 to 0.00028, saving model to tmp/ckeckpointer.ckpt\n",
            "150/150 [==============================] - 1s 9ms/step - loss: 1.8155e-05 - mse: 3.6310e-05 - val_loss: 2.8084e-04 - val_mse: 5.6168e-04\n",
            "Epoch 16/50\n",
            "148/150 [============================>.] - ETA: 0s - loss: 1.8561e-05 - mse: 3.7123e-05\n",
            "Epoch 16: val_loss did not improve from 0.00028\n",
            "150/150 [==============================] - 1s 8ms/step - loss: 1.8763e-05 - mse: 3.7526e-05 - val_loss: 2.9206e-04 - val_mse: 5.8413e-04\n",
            "Epoch 17/50\n",
            "146/150 [============================>.] - ETA: 0s - loss: 1.7749e-05 - mse: 3.5499e-05\n",
            "Epoch 17: val_loss improved from 0.00028 to 0.00027, saving model to tmp/ckeckpointer.ckpt\n",
            "150/150 [==============================] - 1s 8ms/step - loss: 1.8064e-05 - mse: 3.6129e-05 - val_loss: 2.7023e-04 - val_mse: 5.4046e-04\n",
            "Epoch 18/50\n",
            "150/150 [==============================] - ETA: 0s - loss: 1.7653e-05 - mse: 3.5306e-05\n",
            "Epoch 18: val_loss did not improve from 0.00027\n",
            "150/150 [==============================] - 1s 8ms/step - loss: 1.7653e-05 - mse: 3.5306e-05 - val_loss: 4.1251e-04 - val_mse: 8.2502e-04\n",
            "Epoch 19/50\n",
            "148/150 [============================>.] - ETA: 0s - loss: 1.8811e-05 - mse: 3.7623e-05\n",
            "Epoch 19: val_loss did not improve from 0.00027\n",
            "150/150 [==============================] - 1s 8ms/step - loss: 1.8842e-05 - mse: 3.7683e-05 - val_loss: 3.0065e-04 - val_mse: 6.0130e-04\n",
            "Epoch 20/50\n",
            "148/150 [============================>.] - ETA: 0s - loss: 1.6158e-05 - mse: 3.2317e-05\n",
            "Epoch 20: val_loss did not improve from 0.00027\n",
            "150/150 [==============================] - 1s 8ms/step - loss: 1.6333e-05 - mse: 3.2665e-05 - val_loss: 5.0568e-04 - val_mse: 0.0010\n",
            "Epoch 21/50\n",
            "150/150 [==============================] - ETA: 0s - loss: 1.9992e-05 - mse: 3.9984e-05\n",
            "Epoch 21: val_loss did not improve from 0.00027\n",
            "150/150 [==============================] - 1s 8ms/step - loss: 1.9992e-05 - mse: 3.9984e-05 - val_loss: 5.2617e-04 - val_mse: 0.0011\n",
            "Epoch 22/50\n",
            "143/150 [===========================>..] - ETA: 0s - loss: 1.5715e-05 - mse: 3.1429e-05\n",
            "Epoch 22: val_loss did not improve from 0.00027\n",
            "150/150 [==============================] - 1s 8ms/step - loss: 1.6543e-05 - mse: 3.3086e-05 - val_loss: 3.4172e-04 - val_mse: 6.8344e-04\n",
            "Epoch 23/50\n",
            "145/150 [============================>.] - ETA: 0s - loss: 1.4384e-05 - mse: 2.8768e-05\n",
            "Epoch 23: val_loss improved from 0.00027 to 0.00020, saving model to tmp/ckeckpointer.ckpt\n",
            "150/150 [==============================] - 1s 8ms/step - loss: 1.4856e-05 - mse: 2.9713e-05 - val_loss: 2.0152e-04 - val_mse: 4.0305e-04\n",
            "Epoch 24/50\n",
            "145/150 [============================>.] - ETA: 0s - loss: 1.4901e-05 - mse: 2.9801e-05\n",
            "Epoch 24: val_loss did not improve from 0.00020\n",
            "150/150 [==============================] - 1s 8ms/step - loss: 1.5124e-05 - mse: 3.0248e-05 - val_loss: 2.3517e-04 - val_mse: 4.7033e-04\n",
            "Epoch 25/50\n",
            "149/150 [============================>.] - ETA: 0s - loss: 1.4012e-05 - mse: 2.8024e-05\n",
            "Epoch 25: val_loss did not improve from 0.00020\n",
            "150/150 [==============================] - 1s 8ms/step - loss: 1.4052e-05 - mse: 2.8104e-05 - val_loss: 2.0432e-04 - val_mse: 4.0865e-04\n",
            "Epoch 26/50\n",
            "147/150 [============================>.] - ETA: 0s - loss: 1.5586e-05 - mse: 3.1171e-05\n",
            "Epoch 26: val_loss did not improve from 0.00020\n",
            "150/150 [==============================] - 1s 8ms/step - loss: 1.5797e-05 - mse: 3.1594e-05 - val_loss: 4.1489e-04 - val_mse: 8.2978e-04\n",
            "Epoch 27/50\n",
            "143/150 [===========================>..] - ETA: 0s - loss: 1.4241e-05 - mse: 2.8482e-05\n",
            "Epoch 27: val_loss did not improve from 0.00020\n",
            "150/150 [==============================] - 1s 8ms/step - loss: 1.4551e-05 - mse: 2.9102e-05 - val_loss: 2.0170e-04 - val_mse: 4.0339e-04\n",
            "Epoch 28/50\n",
            "150/150 [==============================] - ETA: 0s - loss: 1.4167e-05 - mse: 2.8333e-05\n",
            "Epoch 28: val_loss did not improve from 0.00020\n",
            "150/150 [==============================] - 1s 8ms/step - loss: 1.4167e-05 - mse: 2.8333e-05 - val_loss: 2.6523e-04 - val_mse: 5.3046e-04\n",
            "Epoch 29/50\n",
            "141/150 [===========================>..] - ETA: 0s - loss: 1.3358e-05 - mse: 2.6717e-05\n",
            "Epoch 29: val_loss did not improve from 0.00020\n",
            "150/150 [==============================] - 1s 8ms/step - loss: 1.4460e-05 - mse: 2.8920e-05 - val_loss: 2.6781e-04 - val_mse: 5.3562e-04\n",
            "Epoch 30/50\n",
            "144/150 [===========================>..] - ETA: 0s - loss: 1.3012e-05 - mse: 2.6024e-05\n",
            "Epoch 30: val_loss improved from 0.00020 to 0.00020, saving model to tmp/ckeckpointer.ckpt\n",
            "150/150 [==============================] - 1s 8ms/step - loss: 1.3537e-05 - mse: 2.7074e-05 - val_loss: 1.9586e-04 - val_mse: 3.9173e-04\n",
            "Epoch 31/50\n",
            "148/150 [============================>.] - ETA: 0s - loss: 1.2946e-05 - mse: 2.5892e-05\n",
            "Epoch 31: val_loss did not improve from 0.00020\n",
            "150/150 [==============================] - 1s 9ms/step - loss: 1.3051e-05 - mse: 2.6103e-05 - val_loss: 2.4020e-04 - val_mse: 4.8041e-04\n",
            "Epoch 32/50\n",
            "144/150 [===========================>..] - ETA: 0s - loss: 1.2647e-05 - mse: 2.5293e-05\n",
            "Epoch 32: val_loss did not improve from 0.00020\n",
            "150/150 [==============================] - 1s 8ms/step - loss: 1.3054e-05 - mse: 2.6108e-05 - val_loss: 2.5491e-04 - val_mse: 5.0983e-04\n",
            "Epoch 33/50\n",
            "147/150 [============================>.] - ETA: 0s - loss: 1.3556e-05 - mse: 2.7113e-05\n",
            "Epoch 33: val_loss did not improve from 0.00020\n",
            "150/150 [==============================] - 1s 8ms/step - loss: 1.4073e-05 - mse: 2.8145e-05 - val_loss: 3.5515e-04 - val_mse: 7.1030e-04\n",
            "Epoch 34/50\n",
            "145/150 [============================>.] - ETA: 0s - loss: 1.3930e-05 - mse: 2.7861e-05\n",
            "Epoch 34: val_loss did not improve from 0.00020\n",
            "150/150 [==============================] - 2s 13ms/step - loss: 1.4066e-05 - mse: 2.8132e-05 - val_loss: 2.7096e-04 - val_mse: 5.4191e-04\n",
            "Epoch 35/50\n",
            "144/150 [===========================>..] - ETA: 0s - loss: 1.1671e-05 - mse: 2.3341e-05\n",
            "Epoch 35: val_loss did not improve from 0.00020\n",
            "150/150 [==============================] - 1s 8ms/step - loss: 1.2045e-05 - mse: 2.4091e-05 - val_loss: 2.9638e-04 - val_mse: 5.9276e-04\n",
            "Epoch 36/50\n",
            "143/150 [===========================>..] - ETA: 0s - loss: 1.0814e-05 - mse: 2.1628e-05\n",
            "Epoch 36: val_loss did not improve from 0.00020\n",
            "150/150 [==============================] - 1s 8ms/step - loss: 1.1388e-05 - mse: 2.2777e-05 - val_loss: 3.8190e-04 - val_mse: 7.6380e-04\n",
            "Epoch 37/50\n",
            "144/150 [===========================>..] - ETA: 0s - loss: 1.2671e-05 - mse: 2.5341e-05\n",
            "Epoch 37: val_loss did not improve from 0.00020\n",
            "150/150 [==============================] - 1s 8ms/step - loss: 1.3104e-05 - mse: 2.6207e-05 - val_loss: 4.2713e-04 - val_mse: 8.5427e-04\n",
            "Epoch 38/50\n",
            "146/150 [============================>.] - ETA: 0s - loss: 1.1866e-05 - mse: 2.3732e-05\n",
            "Epoch 38: val_loss did not improve from 0.00020\n",
            "150/150 [==============================] - 1s 8ms/step - loss: 1.1984e-05 - mse: 2.3967e-05 - val_loss: 3.9631e-04 - val_mse: 7.9262e-04\n",
            "Epoch 39/50\n",
            "143/150 [===========================>..] - ETA: 0s - loss: 1.1520e-05 - mse: 2.3041e-05\n",
            "Epoch 39: val_loss did not improve from 0.00020\n",
            "150/150 [==============================] - 1s 9ms/step - loss: 1.2214e-05 - mse: 2.4427e-05 - val_loss: 3.1517e-04 - val_mse: 6.3035e-04\n",
            "Epoch 40/50\n",
            "143/150 [===========================>..] - ETA: 0s - loss: 1.0883e-05 - mse: 2.1767e-05\n",
            "Epoch 40: val_loss did not improve from 0.00020\n",
            "150/150 [==============================] - 2s 11ms/step - loss: 1.1257e-05 - mse: 2.2513e-05 - val_loss: 2.7933e-04 - val_mse: 5.5867e-04\n"
          ]
        }
      ],
      "source": [
        "history = model.fit(train_data, \n",
        "                    validation_data=(test_data), \n",
        "                    epochs=50, \n",
        "                    callbacks=[checkpoint, earlystopping])"
      ]
    },
    {
      "cell_type": "markdown",
      "metadata": {
        "id": "n-jZxCtr8bU1"
      },
      "source": [
        "저장한 ModelCheckpoint 를 로드합니다."
      ]
    },
    {
      "cell_type": "code",
      "execution_count": 39,
      "metadata": {
        "id": "RoPIDRSo32f-",
        "outputId": "9e466a1a-e5b8-4cde-f544-8c07dca4bbd2",
        "colab": {
          "base_uri": "https://localhost:8080/"
        }
      },
      "outputs": [
        {
          "output_type": "execute_result",
          "data": {
            "text/plain": [
              "<tensorflow.python.training.tracking.util.CheckpointLoadStatus at 0x7f2ffe396250>"
            ]
          },
          "metadata": {},
          "execution_count": 39
        }
      ],
      "source": [
        "model.load_weights(filename)"
      ]
    },
    {
      "cell_type": "markdown",
      "metadata": {
        "id": "F0CAzp7t8bU1"
      },
      "source": [
        "`test_data`를 활용하여 예측을 진행합니다."
      ]
    },
    {
      "cell_type": "code",
      "execution_count": 40,
      "metadata": {
        "id": "WxAxSLNL0l8Z"
      },
      "outputs": [],
      "source": [
        "pred = model.predict(test_data)"
      ]
    },
    {
      "cell_type": "code",
      "execution_count": 41,
      "metadata": {
        "colab": {
          "base_uri": "https://localhost:8080/"
        },
        "id": "yMPXjSQ10l8d",
        "outputId": "1ec482e9-24f1-4298-ab0e-0459cf637b11"
      },
      "outputs": [
        {
          "output_type": "execute_result",
          "data": {
            "text/plain": [
              "(1180, 1)"
            ]
          },
          "metadata": {},
          "execution_count": 41
        }
      ],
      "source": [
        "pred.shape"
      ]
    },
    {
      "cell_type": "markdown",
      "metadata": {
        "id": "jaWpXnQf6zMt"
      },
      "source": [
        "## 예측 데이터 시각화"
      ]
    },
    {
      "cell_type": "markdown",
      "metadata": {
        "id": "9lDtsJgd8bU2"
      },
      "source": [
        "아래 시각화 코드중 y_test 데이터에 **[20:]**으로 슬라이싱을 한 이유는\n",
        "\n",
        "예측 데이터에서 20일치의 데이터로 21일치를 예측해야하기 때문에 test_data로 예측 시 *앞의 20일은 예측하지 않습니다.*\n",
        "\n",
        "따라서, 20번 째 index와 비교하면 더욱 정확합니다."
      ]
    },
    {
      "cell_type": "code",
      "execution_count": 42,
      "metadata": {
        "colab": {
          "base_uri": "https://localhost:8080/",
          "height": 592
        },
        "id": "2F4QQ1O_0l8m",
        "outputId": "bec46756-c22b-4b36-9b81-702a3e81fe3c"
      },
      "outputs": [
        {
          "output_type": "display_data",
          "data": {
            "text/plain": [
              "<Figure size 1440x720 with 1 Axes>"
            ],
            "image/png": "[encoded data removed]"
          },
          "metadata": {
            "needs_background": "light"
          }
        }
      ],
      "source": [
        "plt.figure(figsize=(20, 10))\n",
        "plt.plot(np.asarray(y_test)[20:], label='actual')\n",
        "plt.plot(pred, label='prediction')\n",
        "plt.legend()\n",
        "plt.show()"
      ]
    }
  ],
  "metadata": {
    "accelerator": "GPU",
    "colab": {
      "collapsed_sections": [],
      "name": "LSTM을 활용한 삼성전자 주가예측",
      "provenance": [],
      "include_colab_link": true
    },
    "kernelspec": {
      "display_name": "Python 3",
      "language": "python",
      "name": "python3"
    },
    "language_info": {
      "codemirror_mode": {
        "name": "ipython",
        "version": 3
      },
      "file_extension": ".py",
      "mimetype": "text/x-python",
      "name": "python",
      "nbconvert_exporter": "python",
      "pygments_lexer": "ipython3",
      "version": "3.6.10"
    }
  },
  "nbformat": 4,
  "nbformat_minor": 0
}