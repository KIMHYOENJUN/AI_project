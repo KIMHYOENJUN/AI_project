{
  "nbformat": 4,
  "nbformat_minor": 0,
  "metadata": {
    "colab": {
      "name": "txt parsingipynb",
      "provenance": [],
      "collapsed_sections": [],
      "authorship_tag": "ABX9TyMNJ6Z4mdOaWFw/2/LtJZgu",
      "include_colab_link": true
    },
    "kernelspec": {
      "name": "python3",
      "display_name": "Python 3"
    },
    "language_info": {
      "name": "python"
    }
  },
  "cells": [
    {
      "cell_type": "markdown",
      "metadata": {
        "id": "view-in-github",
        "colab_type": "text"
      },
      "source": [
        "<a href=\"https://colab.research.google.com/github/KIMHYOENJUN/AI_project/blob/main/txt_parsingipynb.ipynb\" target=\"_parent\"><img src=\"https://colab.research.google.com/assets/colab-badge.svg\" alt=\"Open In Colab\"/></a>"
      ]
    },
    {
      "cell_type": "code",
      "source": [
        "import os, sys \n",
        "from google.colab import drive \n",
        "\n",
        "drive.mount('./content')"
      ],
      "metadata": {
        "id": "KxgWUwnz2s8b",
        "colab": {
          "base_uri": "https://localhost:8080/"
        },
        "outputId": "83201501-f207-4a9e-a8e1-20dd11c9b046"
      },
      "execution_count": 1,
      "outputs": [
        {
          "output_type": "stream",
          "name": "stdout",
          "text": [
            "Mounted at ./content\n"
          ]
        }
      ]
    },
    {
      "cell_type": "code",
      "source": [
        "cd content/My Drive/fruit"
      ],
      "metadata": {
        "colab": {
          "base_uri": "https://localhost:8080/"
        },
        "id": "iyxYRqnHVTQG",
        "outputId": "1fd046e8-4733-4659-a714-523957b9026a"
      },
      "execution_count": 2,
      "outputs": [
        {
          "output_type": "stream",
          "name": "stdout",
          "text": [
            "/content/content/My Drive/fruit\n"
          ]
        }
      ]
    },
    {
      "cell_type": "code",
      "source": [
        ""
      ],
      "metadata": {
        "id": "vn2amNQfVTrB"
      },
      "execution_count": null,
      "outputs": []
    },
    {
      "cell_type": "code",
      "execution_count": 3,
      "metadata": {
        "id": "H_n07Fx02WWS"
      },
      "outputs": [],
      "source": [
        "from curses import A_ALTCHARSET\n",
        "import os\n",
        "from glob import glob \n",
        "import cv2\n",
        "import sys\n",
        "import random\n",
        "import numpy as np\n",
        "import xml.etree.ElementTree as ET\n",
        "\n",
        "#os.chdir(r'C:\\Users\\Administrator\\Desktop\\test')\n",
        "#path = r'C:\\Users\\Administrator\\Desktop\\test'\n",
        "\n",
        "\n",
        "class preprocessing(object):\n",
        "    def __init__(self, resize_size):\n",
        "      self.resize_size = resize_size\n",
        "\n",
        "    def resize(self,img):\n",
        "      resize_img = cv2.resize(img, (self.resize_size, self.resize_size))\n",
        "      return resize_img\n",
        "\n",
        "    def normalize(self, img):\n",
        "      norm_img = img/ 255.0\n",
        "      return norm_img\n",
        "\n",
        "    def label_parsing(self, label_path):\n",
        "      info = ET.parse(label_path)\n",
        "      root = info.getroot()\n",
        "      member_object = root.findall('object')\n",
        "      label_data =[]\n",
        "      labels_dict = dict(obj_class=[], xmin=[], xmax=[], ymin=[], ymax=[])\n",
        "      label_data.append(label_path)\n",
        "      for obj in member_object:\n",
        "        if obj.find('name').text == 'apple':\n",
        "          obj_class = 0\n",
        "        elif obj.find('name').text == 'banana':\n",
        "          obj_class = 1\n",
        "        elif obj.find('name').text == 'orange':\n",
        "          obj_class = 2\n",
        "\n",
        "      labels_info = obj.find('bndbox')\n",
        "      xmin = int(labels_info.find('xmin').text) \n",
        "      xmax = int(labels_info.find('xmax').text) \n",
        "      ymin = int(labels_info.find('ymin').text) \n",
        "      ymax = int(labels_info.find('ymax').text) \n",
        "      labels_dict['xmin'].append(xmin)\n",
        "      labels_dict['xmax'].append(xmax)\n",
        "      labels_dict['ymin'].append(ymin)\n",
        "      labels_dict['ymax'].append(ymax)\n",
        "      labels_dict['obj_class'].append(obj_class)\n",
        "      label_data.append(labels_dict)\n",
        "      return label_data\n",
        "\n",
        "\n",
        "def main():\n",
        "      datapath = '../train_zip/train'\n",
        "      image_files =glob(os.path.join(datapath,'*.jpg'))\n",
        "      label_files =glob(os.path.join(datapath,'*.xml'))\n",
        "      prepro_img = preprocessing(resize_size=244)\n",
        "\n",
        "      data =list(zip(image_files, label_files))\n",
        "      random.seed(4)\n",
        "      random.shuffle(data)\n",
        "\n",
        "\n",
        "      for file in data:\n",
        "        image = cv2.imread(file[0])\n",
        "        label = prepro_img.label_parsing(file[1])\n",
        "\n",
        "\n",
        "      if(file[0].split('\\\\'))[-1] == 'mixed_8.jpg':\n",
        "        rext_img = image\n",
        "\n",
        "        for i in range(len(label[1]['obj_class'])):\n",
        "          bb_color =(0, 0, 0)\n",
        "          if label[1]['obj_class'][i] == 0:\n",
        "             bb_color =(255, 0, 0)\n",
        "          elif label[1]['obj_class'][i] == 1: \n",
        "            bb_color =(0, 255, 0)\n",
        "          elif label[1]['obj_class'][i] == 2:\n",
        "             bb_color =(0, 0, 255)\n",
        "\n",
        "          rect_img = cv2.rectangle(rect_img,)(label[1]['xmin'][i], label[1]['ymin'][i], label[1]['xmax'][i], label[1]['ymax'][i],label[1]['obj_class'][i])\n",
        "        cv2.imwrite('bb_result.jpg', rect_img)\n",
        "      \n",
        "      with open('train.txt', 'w') as f:\n",
        "       for file in data:\n",
        "          label = prepro_img.label_parsing(file[1])\n",
        "          f.write(label[0]+' ')\n",
        "          for i in range(len(label[1]['obj_class'])):\n",
        "             f.write(' {} {} {} {} [] '.format(label[1]['obj_class'][i] ,label[1]['xmin'][i], label[1]['ymin'][i], label[1]['xmax'][i], label[1]['ymax'][i]))\n",
        "         # f.write(' {} {} {} {} [] '.format(w*[0]['xmin'][i]),int(h*label[0]['ymin'][i]), int(w*label[0]['xmax'][i]), int(h*label[0]['ymax'[i]]), label[0]['obj_class'][i]) \n",
        "          f.write('\\n')"
      ]
    },
    {
      "cell_type": "markdown",
      "source": [
        ""
      ],
      "metadata": {
        "id": "eg1SAfIAQr1U"
      }
    }
  ]
}