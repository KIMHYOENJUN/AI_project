{
  "nbformat": 4,
  "nbformat_minor": 0,
  "metadata": {
    "colab": {
      "name": "Assignment 02.ipynb",
      "provenance": [],
      "collapsed_sections": [],
      "toc_visible": true,
      "include_colab_link": true
    },
    "kernelspec": {
      "name": "python3",
      "display_name": "Python 3"
    },
    "language_info": {
      "name": "python"
    }
  },
  "cells": [
    {
      "cell_type": "markdown",
      "metadata": {
        "id": "view-in-github",
        "colab_type": "text"
      },
      "source": [
        "<a href=\"https://colab.research.google.com/github/KIMHYOENJUN/AI_project/blob/main/Assignment_02.ipynb\" target=\"_parent\"><img src=\"https://colab.research.google.com/assets/colab-badge.svg\" alt=\"Open In Colab\"/></a>"
      ]
    },
    {
      "cell_type": "code",
      "execution_count": null,
      "metadata": {
        "colab": {
          "base_uri": "https://localhost:8080/"
        },
        "id": "N9YUsOry9nD0",
        "outputId": "5bfb6953-01b9-4c2f-9d68-971f3685107a"
      },
      "outputs": [
        {
          "output_type": "stream",
          "name": "stdout",
          "text": [
            "김밥의 가격은? ('김밥', 5000)\n"
          ]
        },
        {
          "output_type": "execute_result",
          "data": {
            "text/plain": [
              "dict_values([5000, 3000, 2000])"
            ]
          },
          "metadata": {},
          "execution_count": 39
        }
      ],
      "source": [
        "# 사전의 구조와 이해\n",
        "\n",
        "price = {'김밥': 5000, '어묵':3000, '떡볶이': 2000}\n",
        "item= list(price.items())\n",
        "print(\"김밥의 가격은?\",item[0])\n",
        "price.values()"
      ]
    },
    {
      "cell_type": "code",
      "source": [
        "# 리스트의 슬라이싱을 사용하여 아래를 출력하세요\n",
        "\n",
        "tp = [1,2,3,4,5,6,7]\n",
        "\n",
        "print(tp[0])\n",
        "print(tp[:-4])\n",
        "print(tp[-4:])\n",
        "print(tp[-1])\n",
        "print(tp[::-1])"
      ],
      "metadata": {
        "id": "lQCEERSl-Wba",
        "colab": {
          "base_uri": "https://localhost:8080/"
        },
        "outputId": "9455c84f-d022-41e2-ca3f-f581927ee8b3"
      },
      "execution_count": null,
      "outputs": [
        {
          "output_type": "stream",
          "name": "stdout",
          "text": [
            "1\n",
            "[1, 2, 3]\n",
            "[4, 5, 6, 7]\n",
            "7\n",
            "[7, 6, 5, 4, 3, 2, 1]\n"
          ]
        }
      ]
    },
    {
      "cell_type": "code",
      "source": [
        "# 조건문\n",
        "# 점수를 입력받아 등급을 출력하세요\n",
        "# 등급표 81~100\tA / 61~80\tB / 41~60\tC / 21~40\tD / 0~20\tE\n",
        "\n",
        "score = int(input(\"점수를 입력하세요: \"))\n",
        "if (score >= 81): grade = \"A\"\n",
        "elif(score >= 61):grade = \"B\"\n",
        "elif(score >= 41): grade = \"C\"\n",
        "elif(score >= 21): grade = \"D\"\n",
        "else: grade = \"E\"\n",
        "print('점수는', score,'점이며' '등급은',grade,'등급입니다', grade)"
      ],
      "metadata": {
        "colab": {
          "base_uri": "https://localhost:8080/"
        },
        "id": "YxX6NxrNCK5z",
        "outputId": "be2c347c-e8f2-47ea-a2c9-7f384846a29f"
      },
      "execution_count": null,
      "outputs": [
        {
          "output_type": "stream",
          "name": "stdout",
          "text": [
            "점수를 입력하세요: 67\n",
            "점수는 67 점이며등급은 B 등급입니다 B\n"
          ]
        }
      ]
    },
    {
      "cell_type": "code",
      "source": [
        "# 함수를 만들고 두 수를 입력받아 연산하세요\n",
        "\n",
        "a = int(input('첫 번째 정수를 입력하세요: '))\n",
        "b = int(input('두 번째 정수를 입력하세요: '))\n",
        "\n",
        "print(\"덧셈 함수 연산:\",a+b)\n",
        "print(\"곱셈 함수 연산:\",a*b)\n",
        "print(\"제곱 함수 연산:\",a**b)"
      ],
      "metadata": {
        "id": "mD9n7jRG-8qL",
        "outputId": "b830437f-4d72-4c1a-812f-e814e126de17",
        "colab": {
          "base_uri": "https://localhost:8080/"
        }
      },
      "execution_count": 1,
      "outputs": [
        {
          "output_type": "stream",
          "name": "stdout",
          "text": [
            "첫 번째 정수를 입력하세요: 5\n",
            "두 번째 정수를 입력하세요: 6\n",
            "덧셈 함수 연산: 11\n",
            "곱셈 함수 연산: 30\n",
            "제곱 함수 연산: 15625\n"
          ]
        }
      ]
    },
    {
      "cell_type": "code",
      "source": [
        "# 알고리즘 생성\n",
        "# 피보나치 수열을 계산하는 함수를 생성하고 자연수 10을 넣어 실행하세요\n",
        "def pivo(n):\n",
        "  return pivo(n-1) + pivo(n-2) if n >= 2 else n\n",
        "for n in range(1):\n",
        "  print(pivo(10)) \n"
      ],
      "metadata": {
        "colab": {
          "base_uri": "https://localhost:8080/"
        },
        "id": "OL3QMyusC9V0",
        "outputId": "9c1d16c9-1941-4813-c270-15f3f4ff511b"
      },
      "execution_count": null,
      "outputs": [
        {
          "output_type": "stream",
          "name": "stdout",
          "text": [
            "55\n"
          ]
        }
      ]
    },
    {
      "cell_type": "code",
      "source": [
        "from typing import AsyncGenerator\n",
        "# 클래스\n",
        "# 사람 (Human) 클래스를 정의하고 (이름, 나이, 성별)을 받는 생성자를 추가하세요.\n",
        "\n",
        "class Human :\n",
        "   def __init__(self, name, age, gender):\n",
        "     self.name = name\n",
        "     self.age = age\n",
        "     self.gender = gender\n",
        "\n",
        "   def info(self):\n",
        "       print(\"이름: {}, 나이: {}, 성별: {}\".format(self.name, self.age, self.gender)) \n",
        "k = Human(\"김현준\",25,\"남자\")\n",
        "\n",
        "k.info()"
      ],
      "metadata": {
        "id": "nYv044w8Ae0Z",
        "colab": {
          "base_uri": "https://localhost:8080/"
        },
        "outputId": "01978005-f054-4d5f-d693-81a151bdff39"
      },
      "execution_count": null,
      "outputs": [
        {
          "output_type": "stream",
          "name": "stdout",
          "text": [
            "이름: 김현준, 나이: 25, 성별: 남자\n",
            "이름: 홍길동, 나이: 40, 성별: 남자\n"
          ]
        }
      ]
    }
  ]
}